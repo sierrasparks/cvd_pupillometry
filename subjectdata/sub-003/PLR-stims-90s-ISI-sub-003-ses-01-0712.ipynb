{
 "cells": [
  {
   "cell_type": "markdown",
   "metadata": {},
   "source": [
    "**SETUP INSTRUCTIONS**\n",
    "\n",
    "Run each cell below to set up the environment. Make sure to adjust the subject ID and path variables.\n",
    "Run pupilLabsDebug BEFORE this program to ensure measurements are as expected."
   ]
  },
  {
   "cell_type": "code",
   "execution_count": 2,
   "metadata": {},
   "outputs": [],
   "source": [
    "path_base = 'C:/Users/kebl6975/Documents/GitHub/cvd_pupillometry/subjectdata/'\n",
    "# can add subject number + date\n",
    "subject_id = 3\n",
    "subj_base = 'plr-90s-sub-003_ses-01_dat-20230712' # plr-ISI-sub-subjectID-ses-sesID-dat-date - sub-xxx-ses-xx-dat-yyyymmdd"
   ]
  },
  {
   "cell_type": "code",
   "execution_count": null,
   "metadata": {},
   "outputs": [],
   "source": [
    "# Set up stlab\n",
    "from pyplr import stlab\n",
    "d = stlab.SpectraTuneLab(password='2294b16eea08a15a')"
   ]
  },
  {
   "cell_type": "markdown",
   "metadata": {},
   "source": [
    "Light engine is now set up, and so it is now possible to access the methods from the REST API. "
   ]
  },
  {
   "cell_type": "code",
   "execution_count": null,
   "metadata": {
    "scrolled": true
   },
   "outputs": [],
   "source": [
    "# from pyplr.calibrate import CalibrationContext as calibrationContext\n",
    "# Calibration - important\n",
    "import pyplr.calibrate as calb\n",
    "from importlib import reload\n",
    "reload(calb)\n",
    "# file type to be read must be in format of:\n",
    "# led | intensity | wavelength 1 (380) | wavelength 2 | ... | wavelength n (780)\n",
    "\n",
    "cc = calb.CalibrationContext(\n",
    "    'S2_corrected_oo_spectra.csv', binwidth=1)\n",
    "_ = cc.plot_calibrated_spectra()\n"
   ]
  },
  {
   "cell_type": "code",
   "execution_count": null,
   "metadata": {},
   "outputs": [],
   "source": [
    "# calculate the peak spectral sensitivity for each LED at its maximum intensity setting\n",
    "cc.lkp.xs(key=4095, level=1).idxmax(axis=1)"
   ]
  },
  {
   "cell_type": "code",
   "execution_count": null,
   "metadata": {},
   "outputs": [],
   "source": [
    "from pyplr import stlab\n",
    "\n",
    "#50mW spec - retrieved from examples/pfr/stimuli/PLR-3000-50-mw.dsf\n",
    "white_spec = [176, 184, 80, 0, 0, 0, 308, 122, 0, 0]\n",
    "d.turn_off()"
   ]
  },
  {
   "cell_type": "code",
   "execution_count": null,
   "metadata": {},
   "outputs": [],
   "source": [
    "from time import sleep\n",
    "# import random # not using this library unless we want to randomize stims\n",
    "from pyplr.pupil import PupilCore\n",
    "from pyplr.utils import unpack_data_pandas\n",
    "from pyplr.protocol import input_subject_id, subject_dir\n",
    "# Connect to Pupil Core\n",
    "p = PupilCore()\n",
    "p.check_3d_model()"
   ]
  },
  {
   "cell_type": "code",
   "execution_count": null,
   "metadata": {
    "scrolled": true
   },
   "outputs": [],
   "source": [
    "# PIPR STIMS - USE THIS ONE\n",
    "d.turn_off()\n",
    "subject_id = input_subject_id()\n",
    "subj_dir = subject_dir(subject_id)\n",
    "sleep(2)\n",
    "ISI = 85 # interstimulus time, in seconds (actual ISI = this variable + 5 due to sleep)\n",
    "num_trials = 3 # total number of trials\n",
    "run_time = ISI*num_trials + 5*num_trials + 30 # appropriate offset to account for stim duration + sleeps\n",
    "\n",
    "\n",
    "# Start a new recording called \"my_recording\"\n",
    "p.command('R my_recording')\n",
    "\n",
    "# Wait a few seconds\n",
    "sleep(2)\n",
    "\n",
    "# Make an annotation for when the light comes on\n",
    "annotation = p.new_annotation('LIGHT_ON')\n",
    "\n",
    "# Start the .light_stamper(...) and .pupil_grabber(...)\n",
    "# this only captures one eye\n",
    "# pgr_future = p.pupil_grabber(topic='pupil.1.3d', seconds=25) # time here is TOTAL run time\n",
    "pgr_future = p.pupil_grabber(topic='pupil.1.3d', seconds=run_time) # time here is TOTAL run time\n",
    "\n",
    "sleep(2)\n",
    "##################################\n",
    "# Administer light stimulus here #\n",
    "i = 0\n",
    "# random.shuffle(led_list) # use this if stims should be randomized\n",
    "while (i < num_trials):\n",
    "    intensities = white_spec\n",
    "    lst_future = p.light_stamper(annotation=annotation, timeout=10)\n",
    "    d.set_spectrum_a(intensities)\n",
    "    sleep(1.)\n",
    "    d.turn_off()\n",
    "    sleep(ISI)\n",
    "    i+=1\n",
    "    sleep(5) # make sure there is extra time so that trials do not overlap\n",
    "##################################\n",
    "\n",
    "# Wait for the futures\n",
    "while lst_future.running() or pgr_future.running():\n",
    "    print('Waiting for futures...')\n",
    "    sleep(1)\n",
    "\n",
    "# End recording\n",
    "p.command('r')\n",
    "\n",
    "# Get the timestamp and pupil data\n",
    "timestamp = lst_future.result()[1]\n",
    "data = unpack_data_pandas(pgr_future.result())\n",
    "# timestamps are displayed in the output as well\n",
    "# Plot the PLR\n",
    "ax = data['diameter_3d'].plot()\n",
    "ax.axvline(x=timestamp, color='k')"
   ]
  },
  {
   "cell_type": "code",
   "execution_count": null,
   "metadata": {
    "scrolled": true
   },
   "outputs": [],
   "source": [
    "data = unpack_data_pandas(pgr_future.result())\n",
    "# timestamps are displayed in the output as well\n",
    "# Plot the PLR\n",
    "ax = data['diameter_3d'].plot()\n",
    "ax.axvline(x=timestamp, color='k')\n",
    "# display data from pandas table\n",
    "data"
   ]
  },
  {
   "cell_type": "code",
   "execution_count": null,
   "metadata": {},
   "outputs": [],
   "source": [
    "import os  \n",
    "\n",
    "# os.makedirs('C:/Users/kebl6975/Documents/GitHub/cvd_pupillometry/subjectdata', exist_ok=True) \n",
    "\n",
    "data.to_csv(path_base + subj_base + '.csv') # raw data"
   ]
  },
  {
   "cell_type": "markdown",
   "metadata": {},
   "source": [
    "**DATA PROCESSING BEGINS BELOW**"
   ]
  },
  {
   "cell_type": "code",
   "execution_count": null,
   "metadata": {},
   "outputs": [],
   "source": [
    "samples = data\n",
    "samples"
   ]
  },
  {
   "cell_type": "code",
   "execution_count": null,
   "metadata": {},
   "outputs": [],
   "source": [
    "from pyplr import graphing\n",
    "from pyplr import preproc\n",
    "import matplotlib.pyplot as plt\n",
    "\n",
    "# Sampling frequency\n",
    "SAMPLE_RATE = 120\n",
    "\n",
    "# Pupil columns to analyse\n",
    "pupil_cols = ['diameter_3d', 'diameter']\n",
    "\n",
    "# Make figure for processing\n",
    "#f, axs = graphing.pupil_preprocessing(nrows=4, subject='Example')\n",
    "fig, axs = plt.subplots(5, sharex=True, figsize=(10,10))\n",
    "fig.suptitle('Example Subject PLR')\n",
    "\n",
    "# Plot the raw data\n",
    "samples[pupil_cols].plot(title='Raw', ax=axs[0], legend=True)\n",
    "axs[0].legend(loc='center right', labels=['mm', 'pixels'])\n",
    "\n",
    "# Mask first derivative\n",
    "samples = preproc.mask_pupil_first_derivative(\n",
    "    samples, threshold=3.0, mask_cols=pupil_cols)\n",
    "samples[pupil_cols].plot(\n",
    "    title='Masked 1st deriv (3*SD)', ax=axs[1], legend=False)\n",
    "\n",
    "# Mask confidence\n",
    "samples = preproc.mask_pupil_confidence(\n",
    "    samples, threshold=0.8, mask_cols=pupil_cols)\n",
    "samples[pupil_cols].plot(\n",
    "    title='Masked confidence (<0.8)', ax=axs[2], legend=False)\n",
    "\n",
    "# Interpolate\n",
    "samples = preproc.interpolate_pupil(\n",
    "    samples, interp_cols=pupil_cols)\n",
    "samples[pupil_cols].plot(\n",
    "    title='Linear interpolation', ax=axs[3], legend=False)\n",
    "\n",
    "# Smooth\n",
    "samples = preproc.butterworth_series(\n",
    "    samples, fields=pupil_cols, filt_order=3,\n",
    "    cutoff_freq=4/(SAMPLE_RATE/2))\n",
    "samples[pupil_cols].plot(\n",
    "    title='3rd order Butterworth filter with 4 Hz cut-off',\n",
    "    ax=axs[4], legend=False);"
   ]
  },
  {
   "cell_type": "code",
   "execution_count": null,
   "metadata": {},
   "outputs": [],
   "source": [
    "# export butterworth processed sample data (?)\n",
    "samples.to_csv(path_base + subj_base + '-butterworth.csv') # raw data\n",
    "# stop here, run second protocol"
   ]
  },
  {
   "cell_type": "code",
   "execution_count": 1,
   "metadata": {},
   "outputs": [],
   "source": [
    "import matplotlib.pyplot as plt\n",
    "import numpy as np\n",
    "import pandas as pd"
   ]
  },
  {
   "cell_type": "code",
   "execution_count": 4,
   "metadata": {},
   "outputs": [
    {
     "name": "stdout",
     "output_type": "stream",
     "text": [
      "Index(['timestamp', 'id', 'topic', 'method', 'norm_pos', 'diameter',\n",
      "       'confidence', 'sphere', 'projected_sphere', 'circle_3d', 'diameter_3d',\n",
      "       'ellipse', 'location', 'model_confidence', 'theta', 'phi',\n",
      "       'interpolated'],\n",
      "      dtype='object')\n"
     ]
    }
   ],
   "source": [
    "# df_pipr = samples # this is the smoothed out data\n",
    "df_pipr = pd.read_csv(path_base + subj_base + '-butterworth.csv')\n",
    "\n",
    "# Print header names\n",
    "print(df_pipr.columns)\n",
    "\n",
    "# Extract the column with header \"timestamp\"\n",
    "timestamps = df_pipr[\"timestamp\"]\n",
    "# Extract the column with header \"diameter_3d\"\n",
    "diam_3d = df_pipr[\"diameter_3d\"]"
   ]
  },
  {
   "cell_type": "code",
   "execution_count": 5,
   "metadata": {},
   "outputs": [
    {
     "data": {
      "text/plain": [
       "[<matplotlib.lines.Line2D at 0x2548af37910>]"
      ]
     },
     "execution_count": 5,
     "metadata": {},
     "output_type": "execute_result"
    },
    {
     "data": {
      "image/png": "[encoded data removed]",
      "text/plain": [
       "<Figure size 640x480 with 1 Axes>"
      ]
     },
     "metadata": {},
     "output_type": "display_data"
    }
   ],
   "source": [
    "fig = plt.figure()\n",
    "plt.plot(timestamps, diam_3d) # this should be the smoothed out data - if not, check"
   ]
  },
  {
   "cell_type": "markdown",
   "metadata": {},
   "source": [
    "This is copied from the output of cell 11\n",
    "> Light stamped on frame.world at 647825.189762\n",
    "> Waiting for a light to stamp...\n",
    "> Light stamped on frame.world at 647916.6697170001\n",
    "> Waiting for a light to stamp...\n",
    "> Light stamped on frame.world at 648008.0312750001"
   ]
  },
  {
   "cell_type": "markdown",
   "metadata": {},
   "source": [
    "**Edit Cell Below with Timestamps**"
   ]
  },
  {
   "cell_type": "code",
   "execution_count": 6,
   "metadata": {},
   "outputs": [
    {
     "data": {
      "text/plain": [
       "[108, 4042, 8273]"
      ]
     },
     "execution_count": 6,
     "metadata": {},
     "output_type": "execute_result"
    }
   ],
   "source": [
    "# NEED TO EDIT THIS WITH NEW TIMESTAMPS\n",
    "# finds indices of each timestamp (or closest one before, if exact match cannot be found).\n",
    "# finds list of timestamps where condition is true, extracts array of just this, then takes last value (closest stamp)\n",
    "stamp1 = np.where(timestamps <= 647825.189762)[0][-1]\n",
    "stamp2 = np.where(timestamps <= 647916.6697170001)[0][-1]\n",
    "stamp3 = np.where(timestamps <= 648008.0312750001)[0][-1]\n",
    "stamps = [stamp1, stamp2, stamp3]\n",
    "stamps"
   ]
  },
  {
   "cell_type": "code",
   "execution_count": 7,
   "metadata": {},
   "outputs": [],
   "source": [
    "from pyplr import utils\n",
    "from copy import deepcopy"
   ]
  },
  {
   "cell_type": "code",
   "execution_count": 8,
   "metadata": {},
   "outputs": [
    {
     "data": {
      "text/html": [
       "<div>\n",
       "<style scoped>\n",
       "    .dataframe tbody tr th:only-of-type {\n",
       "        vertical-align: middle;\n",
       "    }\n",
       "\n",
       "    .dataframe tbody tr th {\n",
       "        vertical-align: top;\n",
       "    }\n",
       "\n",
       "    .dataframe thead th {\n",
       "        text-align: right;\n",
       "    }\n",
       "</style>\n",
       "<table border=\"1\" class=\"dataframe\">\n",
       "  <thead>\n",
       "    <tr style=\"text-align: right;\">\n",
       "      <th></th>\n",
       "      <th>timestamp</th>\n",
       "      <th>confidence</th>\n",
       "      <th>id</th>\n",
       "      <th>diameter</th>\n",
       "      <th>diameter_3d</th>\n",
       "    </tr>\n",
       "  </thead>\n",
       "  <tbody>\n",
       "    <tr>\n",
       "      <th>0</th>\n",
       "      <td>647823.124082</td>\n",
       "      <td>0.926415</td>\n",
       "      <td>1</td>\n",
       "      <td>66.482073</td>\n",
       "      <td>6.149651</td>\n",
       "    </tr>\n",
       "    <tr>\n",
       "      <th>1</th>\n",
       "      <td>647823.146329</td>\n",
       "      <td>0.916072</td>\n",
       "      <td>1</td>\n",
       "      <td>66.397823</td>\n",
       "      <td>6.140048</td>\n",
       "    </tr>\n",
       "    <tr>\n",
       "      <th>2</th>\n",
       "      <td>647823.168716</td>\n",
       "      <td>0.873511</td>\n",
       "      <td>1</td>\n",
       "      <td>66.318155</td>\n",
       "      <td>6.130894</td>\n",
       "    </tr>\n",
       "    <tr>\n",
       "      <th>3</th>\n",
       "      <td>647823.181453</td>\n",
       "      <td>0.913552</td>\n",
       "      <td>1</td>\n",
       "      <td>66.244379</td>\n",
       "      <td>6.122308</td>\n",
       "    </tr>\n",
       "    <tr>\n",
       "      <th>4</th>\n",
       "      <td>647823.199158</td>\n",
       "      <td>0.905227</td>\n",
       "      <td>1</td>\n",
       "      <td>66.177833</td>\n",
       "      <td>6.114419</td>\n",
       "    </tr>\n",
       "    <tr>\n",
       "      <th>...</th>\n",
       "      <td>...</td>\n",
       "      <td>...</td>\n",
       "      <td>...</td>\n",
       "      <td>...</td>\n",
       "      <td>...</td>\n",
       "    </tr>\n",
       "    <tr>\n",
       "      <th>13203</th>\n",
       "      <td>648122.964620</td>\n",
       "      <td>0.911211</td>\n",
       "      <td>1</td>\n",
       "      <td>66.304490</td>\n",
       "      <td>5.917685</td>\n",
       "    </tr>\n",
       "    <tr>\n",
       "      <th>13204</th>\n",
       "      <td>648123.009704</td>\n",
       "      <td>0.908449</td>\n",
       "      <td>1</td>\n",
       "      <td>66.256494</td>\n",
       "      <td>5.913200</td>\n",
       "    </tr>\n",
       "    <tr>\n",
       "      <th>13205</th>\n",
       "      <td>648123.056606</td>\n",
       "      <td>0.901373</td>\n",
       "      <td>1</td>\n",
       "      <td>66.208849</td>\n",
       "      <td>5.908742</td>\n",
       "    </tr>\n",
       "    <tr>\n",
       "      <th>13206</th>\n",
       "      <td>648123.100734</td>\n",
       "      <td>0.874364</td>\n",
       "      <td>1</td>\n",
       "      <td>66.162628</td>\n",
       "      <td>5.904414</td>\n",
       "    </tr>\n",
       "    <tr>\n",
       "      <th>13207</th>\n",
       "      <td>648123.141962</td>\n",
       "      <td>0.949061</td>\n",
       "      <td>1</td>\n",
       "      <td>66.118898</td>\n",
       "      <td>5.900314</td>\n",
       "    </tr>\n",
       "  </tbody>\n",
       "</table>\n",
       "<p>13208 rows × 5 columns</p>\n",
       "</div>"
      ],
      "text/plain": [
       "           timestamp  confidence  id   diameter  diameter_3d\n",
       "0      647823.124082    0.926415   1  66.482073     6.149651\n",
       "1      647823.146329    0.916072   1  66.397823     6.140048\n",
       "2      647823.168716    0.873511   1  66.318155     6.130894\n",
       "3      647823.181453    0.913552   1  66.244379     6.122308\n",
       "4      647823.199158    0.905227   1  66.177833     6.114419\n",
       "...              ...         ...  ..        ...          ...\n",
       "13203  648122.964620    0.911211   1  66.304490     5.917685\n",
       "13204  648123.009704    0.908449   1  66.256494     5.913200\n",
       "13205  648123.056606    0.901373   1  66.208849     5.908742\n",
       "13206  648123.100734    0.874364   1  66.162628     5.904414\n",
       "13207  648123.141962    0.949061   1  66.118898     5.900314\n",
       "\n",
       "[13208 rows x 5 columns]"
      ]
     },
     "execution_count": 8,
     "metadata": {},
     "output_type": "execute_result"
    }
   ],
   "source": [
    "df_data = df_pipr[['timestamp', 'confidence','id','diameter','diameter_3d']]\n",
    "df_data"
   ]
  },
  {
   "cell_type": "code",
   "execution_count": 9,
   "metadata": {},
   "outputs": [],
   "source": [
    "# extract ranges from samples based on event timing and sample count\n",
    "# adapted from extract() from utils.py\n",
    "# set variables - change as necessary\n",
    "samples = df_data\n",
    "event_starts = stamps \n",
    "onset_time = 1\n",
    "duration_time = 60\n",
    "offset = -60*onset_time # 60 sample rate, start 1s before light to get baseline\n",
    "duration = 60*duration_time  # 60 sample rate\n",
    "\n",
    "# find the indexes of the event starts, and offset by sample count\n",
    "range_idxs = (\n",
    "    np.searchsorted(samples.index, event_starts, \"left\") + offset\n",
    ")\n",
    "range_duration = duration\n"
   ]
  },
  {
   "cell_type": "code",
   "execution_count": 10,
   "metadata": {},
   "outputs": [
    {
     "data": {
      "text/plain": [
       "array([  48, 3982, 8213], dtype=int64)"
      ]
     },
     "execution_count": 10,
     "metadata": {},
     "output_type": "execute_result"
    }
   ],
   "source": [
    "range_idxs"
   ]
  },
  {
   "cell_type": "code",
   "execution_count": 11,
   "metadata": {},
   "outputs": [
    {
     "name": "stdout",
     "output_type": "stream",
     "text": [
      "Extracted ranges for 3 events\n"
     ]
    },
    {
     "name": "stderr",
     "output_type": "stream",
     "text": [
      "C:\\Users\\kebl6975\\AppData\\Local\\Temp\\ipykernel_21024\\2016008756.py:2: SettingWithCopyWarning: \n",
      "A value is trying to be set on a copy of a slice from a DataFrame.\n",
      "Try using .loc[row_indexer,col_indexer] = value instead\n",
      "\n",
      "See the caveats in the documentation: https://pandas.pydata.org/pandas-docs/stable/user_guide/indexing.html#returning-a-view-versus-a-copy\n",
      "  samples[\"orig_idx\"] = samples.index\n"
     ]
    }
   ],
   "source": [
    "# make a hierarchical index\n",
    "samples[\"orig_idx\"] = samples.index\n",
    "midx = pd.MultiIndex.from_product(\n",
    "    [list(range(len(event_starts))), list(range(range_duration))],\n",
    "    names=[\"event\", \"onset\"],\n",
    ")\n",
    "\n",
    "# TODO: can add option for time index here\n",
    "\n",
    "# get the samples\n",
    "df = pd.DataFrame()\n",
    "idx = 0\n",
    "for start_idx in range_idxs:\n",
    "    # get the start time and add the required number of indices\n",
    "    end_idx = start_idx + range_duration - 1  # .loc indexing is inclusive\n",
    "    if end_idx >= len(samples):\n",
    "        end_idx = len(samples) - 1\n",
    "    new_df = deepcopy(\n",
    "        samples.loc[samples.index[start_idx] : samples.index[end_idx]]\n",
    "    )\n",
    "    #for ba in borrow_attributes:\n",
    "        #new_df[ba] = events.iloc[idx].get(ba, float(\"nan\"))\n",
    "    df = pd.concat([df, new_df])\n",
    "    idx += 1\n",
    "df.index = midx\n",
    "print(\"Extracted ranges for {} events\".format(len(event_starts)))"
   ]
  },
  {
   "cell_type": "code",
   "execution_count": 12,
   "metadata": {},
   "outputs": [
    {
     "data": {
      "text/plain": [
       "MultiIndex([(0,    0),\n",
       "            (0,    1),\n",
       "            (0,    2),\n",
       "            (0,    3),\n",
       "            (0,    4),\n",
       "            (0,    5),\n",
       "            (0,    6),\n",
       "            (0,    7),\n",
       "            (0,    8),\n",
       "            (0,    9),\n",
       "            ...\n",
       "            (2, 3590),\n",
       "            (2, 3591),\n",
       "            (2, 3592),\n",
       "            (2, 3593),\n",
       "            (2, 3594),\n",
       "            (2, 3595),\n",
       "            (2, 3596),\n",
       "            (2, 3597),\n",
       "            (2, 3598),\n",
       "            (2, 3599)],\n",
       "           names=['event', 'onset'], length=10800)"
      ]
     },
     "execution_count": 12,
     "metadata": {},
     "output_type": "execute_result"
    }
   ],
   "source": [
    "df.index"
   ]
  },
  {
   "cell_type": "code",
   "execution_count": 13,
   "metadata": {},
   "outputs": [
    {
     "name": "stderr",
     "output_type": "stream",
     "text": [
      "C:\\Users\\kebl6975\\AppData\\Local\\Temp\\ipykernel_21024\\2404135914.py:4: FutureWarning: Using the level keyword in DataFrame and Series aggregations is deprecated and will be removed in a future version. Use groupby instead. df.median(level=1) should use df.groupby(level=1).median().\n",
      "  baselines = df.loc[:, range(0, -offset), :].mean(level=0)\n"
     ]
    },
    {
     "data": {
      "text/html": [
       "<div>\n",
       "<style scoped>\n",
       "    .dataframe tbody tr th:only-of-type {\n",
       "        vertical-align: middle;\n",
       "    }\n",
       "\n",
       "    .dataframe tbody tr th {\n",
       "        vertical-align: top;\n",
       "    }\n",
       "\n",
       "    .dataframe thead th {\n",
       "        text-align: right;\n",
       "    }\n",
       "</style>\n",
       "<table border=\"1\" class=\"dataframe\">\n",
       "  <thead>\n",
       "    <tr style=\"text-align: right;\">\n",
       "      <th></th>\n",
       "      <th></th>\n",
       "      <th>timestamp</th>\n",
       "      <th>confidence</th>\n",
       "      <th>id</th>\n",
       "      <th>diameter</th>\n",
       "      <th>diameter_3d</th>\n",
       "      <th>orig_idx</th>\n",
       "      <th>diameter_3d_pc</th>\n",
       "      <th>diameter_pc</th>\n",
       "    </tr>\n",
       "    <tr>\n",
       "      <th>event</th>\n",
       "      <th>onset</th>\n",
       "      <th></th>\n",
       "      <th></th>\n",
       "      <th></th>\n",
       "      <th></th>\n",
       "      <th></th>\n",
       "      <th></th>\n",
       "      <th></th>\n",
       "      <th></th>\n",
       "    </tr>\n",
       "  </thead>\n",
       "  <tbody>\n",
       "    <tr>\n",
       "      <th rowspan=\"5\" valign=\"top\">0</th>\n",
       "      <th>0</th>\n",
       "      <td>647824.071364</td>\n",
       "      <td>0.980713</td>\n",
       "      <td>1</td>\n",
       "      <td>66.834537</td>\n",
       "      <td>6.191821</td>\n",
       "      <td>48</td>\n",
       "      <td>-0.143388</td>\n",
       "      <td>-0.099328</td>\n",
       "    </tr>\n",
       "    <tr>\n",
       "      <th>1</th>\n",
       "      <td>647824.093377</td>\n",
       "      <td>0.940498</td>\n",
       "      <td>1</td>\n",
       "      <td>66.848676</td>\n",
       "      <td>6.193457</td>\n",
       "      <td>49</td>\n",
       "      <td>-0.117003</td>\n",
       "      <td>-0.078192</td>\n",
       "    </tr>\n",
       "    <tr>\n",
       "      <th>2</th>\n",
       "      <td>647824.111456</td>\n",
       "      <td>0.977985</td>\n",
       "      <td>1</td>\n",
       "      <td>66.863090</td>\n",
       "      <td>6.195019</td>\n",
       "      <td>50</td>\n",
       "      <td>-0.091805</td>\n",
       "      <td>-0.056648</td>\n",
       "    </tr>\n",
       "    <tr>\n",
       "      <th>3</th>\n",
       "      <td>647824.130408</td>\n",
       "      <td>0.984526</td>\n",
       "      <td>1</td>\n",
       "      <td>66.877551</td>\n",
       "      <td>6.196496</td>\n",
       "      <td>51</td>\n",
       "      <td>-0.067988</td>\n",
       "      <td>-0.035032</td>\n",
       "    </tr>\n",
       "    <tr>\n",
       "      <th>4</th>\n",
       "      <td>647824.145209</td>\n",
       "      <td>0.961331</td>\n",
       "      <td>1</td>\n",
       "      <td>66.891827</td>\n",
       "      <td>6.197876</td>\n",
       "      <td>52</td>\n",
       "      <td>-0.045738</td>\n",
       "      <td>-0.013694</td>\n",
       "    </tr>\n",
       "    <tr>\n",
       "      <th>...</th>\n",
       "      <th>...</th>\n",
       "      <td>...</td>\n",
       "      <td>...</td>\n",
       "      <td>...</td>\n",
       "      <td>...</td>\n",
       "      <td>...</td>\n",
       "      <td>...</td>\n",
       "      <td>...</td>\n",
       "      <td>...</td>\n",
       "    </tr>\n",
       "    <tr>\n",
       "      <th rowspan=\"5\" valign=\"top\">2</th>\n",
       "      <th>3595</th>\n",
       "      <td>648090.054599</td>\n",
       "      <td>1.000000</td>\n",
       "      <td>1</td>\n",
       "      <td>65.116734</td>\n",
       "      <td>5.797129</td>\n",
       "      <td>11808</td>\n",
       "      <td>-1.871849</td>\n",
       "      <td>-2.287587</td>\n",
       "    </tr>\n",
       "    <tr>\n",
       "      <th>3596</th>\n",
       "      <td>648090.074159</td>\n",
       "      <td>1.000000</td>\n",
       "      <td>1</td>\n",
       "      <td>65.115502</td>\n",
       "      <td>5.797640</td>\n",
       "      <td>11809</td>\n",
       "      <td>-1.863196</td>\n",
       "      <td>-2.289435</td>\n",
       "    </tr>\n",
       "    <tr>\n",
       "      <th>3597</th>\n",
       "      <td>648090.099703</td>\n",
       "      <td>1.000000</td>\n",
       "      <td>1</td>\n",
       "      <td>65.114241</td>\n",
       "      <td>5.798212</td>\n",
       "      <td>11810</td>\n",
       "      <td>-1.853516</td>\n",
       "      <td>-2.291329</td>\n",
       "    </tr>\n",
       "    <tr>\n",
       "      <th>3598</th>\n",
       "      <td>648090.122398</td>\n",
       "      <td>0.991815</td>\n",
       "      <td>1</td>\n",
       "      <td>65.113373</td>\n",
       "      <td>5.798874</td>\n",
       "      <td>11811</td>\n",
       "      <td>-1.842323</td>\n",
       "      <td>-2.292631</td>\n",
       "    </tr>\n",
       "    <tr>\n",
       "      <th>3599</th>\n",
       "      <td>648090.141210</td>\n",
       "      <td>0.983031</td>\n",
       "      <td>1</td>\n",
       "      <td>65.113274</td>\n",
       "      <td>5.799645</td>\n",
       "      <td>11812</td>\n",
       "      <td>-1.829272</td>\n",
       "      <td>-2.292780</td>\n",
       "    </tr>\n",
       "  </tbody>\n",
       "</table>\n",
       "<p>10800 rows × 8 columns</p>\n",
       "</div>"
      ],
      "text/plain": [
       "                 timestamp  confidence  id   diameter  diameter_3d  orig_idx  \\\n",
       "event onset                                                                    \n",
       "0     0      647824.071364    0.980713   1  66.834537     6.191821        48   \n",
       "      1      647824.093377    0.940498   1  66.848676     6.193457        49   \n",
       "      2      647824.111456    0.977985   1  66.863090     6.195019        50   \n",
       "      3      647824.130408    0.984526   1  66.877551     6.196496        51   \n",
       "      4      647824.145209    0.961331   1  66.891827     6.197876        52   \n",
       "...                    ...         ...  ..        ...          ...       ...   \n",
       "2     3595   648090.054599    1.000000   1  65.116734     5.797129     11808   \n",
       "      3596   648090.074159    1.000000   1  65.115502     5.797640     11809   \n",
       "      3597   648090.099703    1.000000   1  65.114241     5.798212     11810   \n",
       "      3598   648090.122398    0.991815   1  65.113373     5.798874     11811   \n",
       "      3599   648090.141210    0.983031   1  65.113274     5.799645     11812   \n",
       "\n",
       "             diameter_3d_pc  diameter_pc  \n",
       "event onset                               \n",
       "0     0           -0.143388    -0.099328  \n",
       "      1           -0.117003    -0.078192  \n",
       "      2           -0.091805    -0.056648  \n",
       "      3           -0.067988    -0.035032  \n",
       "      4           -0.045738    -0.013694  \n",
       "...                     ...          ...  \n",
       "2     3595        -1.871849    -2.287587  \n",
       "      3596        -1.863196    -2.289435  \n",
       "      3597        -1.853516    -2.291329  \n",
       "      3598        -1.842323    -2.292631  \n",
       "      3599        -1.829272    -2.292780  \n",
       "\n",
       "[10800 rows x 8 columns]"
      ]
     },
     "execution_count": 13,
     "metadata": {},
     "output_type": "execute_result"
    }
   ],
   "source": [
    "from pyplr import graphing\n",
    "from pyplr import preproc\n",
    "# Calculate baselines\n",
    "baselines = df.loc[:, range(0, -offset), :].mean(level=0)\n",
    "\n",
    "# New columns for percent signal change\n",
    "df = preproc.percent_signal_change(\n",
    "    df, baselines, ['diameter_3d', 'diameter'])\n",
    "df\n"
   ]
  },
  {
   "cell_type": "code",
   "execution_count": 14,
   "metadata": {},
   "outputs": [
    {
     "name": "stderr",
     "output_type": "stream",
     "text": [
      "C:\\Users\\kebl6975\\AppData\\Local\\Temp\\ipykernel_21024\\2953176601.py:3: FutureWarning: Using the level keyword in DataFrame and Series aggregations is deprecated and will be removed in a future version. Use groupby instead. df.median(level=1) should use df.groupby(level=1).median().\n",
      "  average_plr = df.mean(level=1)['diameter_3d'].to_numpy()\n"
     ]
    }
   ],
   "source": [
    "from pyplr.plr import PLR\n",
    "\n",
    "average_plr = df.mean(level=1)['diameter_3d'].to_numpy()\n",
    "plr = PLR(average_plr,\n",
    "          sample_rate=60,\n",
    "          onset_idx=-offset,\n",
    "          stim_duration=1)"
   ]
  },
  {
   "cell_type": "code",
   "execution_count": 17,
   "metadata": {},
   "outputs": [
    {
     "data": {
      "image/png": "[encoded data removed]",
      "text/plain": [
       "<Figure size 800x600 with 2 Axes>"
      ]
     },
     "metadata": {},
     "output_type": "display_data"
    }
   ],
   "source": [
    "fig = plr.plot(vel=True, acc=True, print_params=True)\n",
    "import os\n",
    "if not os.path.exists(path_base + 'figures'):\n",
    "    os.makedirs(path_base + 'figures')\n",
    "# Save the figure in the folder\n",
    "fig.savefig(path_base + 'figures/' + subj_base + '.png')"
   ]
  },
  {
   "cell_type": "code",
   "execution_count": null,
   "metadata": {},
   "outputs": [],
   "source": [
    "params = plr.parameters()\n",
    "params"
   ]
  },
  {
   "cell_type": "code",
   "execution_count": null,
   "metadata": {},
   "outputs": [],
   "source": [
    "df.to_csv(path_base + subj_base + '-processed.csv') # processed data with adjusted onset indices (time in seconds)"
   ]
  },
  {
   "cell_type": "code",
   "execution_count": null,
   "metadata": {},
   "outputs": [],
   "source": [
    "param_new=params.transpose()\n",
    "param_new.reset_index(drop=True)"
   ]
  },
  {
   "cell_type": "code",
   "execution_count": null,
   "metadata": {},
   "outputs": [],
   "source": [
    "param_new[\"subject_id\"] = subject_id\n",
    "param_new = param_new.set_index(\"subject_id\")\n",
    "param_new.to_csv(path_base + subj_base + '-plr-params.csv') # pupillary light response calculated parameters\n",
    "param_new.to_csv(path_base + 'plr-90s-params.csv') # initiate new database with all subject data (REMOVE FOR OTHER FILES)"
   ]
  },
  {
   "cell_type": "code",
   "execution_count": null,
   "metadata": {},
   "outputs": [],
   "source": []
  }
 ],
 "metadata": {
  "kernelspec": {
   "display_name": "Python 3 (ipykernel)",
   "language": "python",
   "name": "python3"
  },
  "language_info": {
   "codemirror_mode": {
    "name": "ipython",
    "version": 3
   },
   "file_extension": ".py",
   "mimetype": "text/x-python",
   "name": "python",
   "nbconvert_exporter": "python",
   "pygments_lexer": "ipython3",
   "version": "3.11.7"
  },
  "vscode": {
   "interpreter": {
    "hash": "4ce50c693e2523f7cccde82e42ebcfbd665d29c02cdad852b853bc044d8ef3b2"
   }
  }
 },
 "nbformat": 4,
 "nbformat_minor": 4
}
