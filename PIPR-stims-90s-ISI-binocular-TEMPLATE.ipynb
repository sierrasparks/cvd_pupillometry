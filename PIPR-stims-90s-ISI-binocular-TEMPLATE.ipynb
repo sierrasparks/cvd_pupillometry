{
 "cells": [
  {
   "cell_type": "code",
   "execution_count": null,
   "metadata": {},
   "outputs": [],
   "source": [
    "# SETUP INSTRUCTIONS\n",
    "# Run each cell below to set up environment\n",
    "# Make sure to adjust subjectid and path variables\n",
    "# Run pupillabs test BEFORE this protocol to ensure measurements are as expected\n",
    "# Also ensure that you have created a subfolder in the \"subjectdata\" folder with the subject number: sub-xxx\n",
    "path_base = 'C:/Users/kebl6975/Documents/GitHub/cvd_pupillometry/subjectdata/' #update \"kebl6975\" with your ID\n",
    "subject_id = 0 # replace subject ID here as a 3-digit number, e.g. 001, 030, 101\n",
    "subj_base = 'sub-xxx/pipr-90s-binoc-sub-xxx_ses-01_dat-yyyymmdd' # sub-subjectID/pipr-90s-binoc-sub-subjectID-ses-sesID-dat-yyyymmdd"
   ]
  },
  {
   "cell_type": "code",
   "execution_count": null,
   "metadata": {},
   "outputs": [],
   "source": [
    "# Set up stlab (light engine). Make sure you have turned it on before running this!\n",
    "from pyplr import stlab\n",
    "d = stlab.SpectraTuneLab(password='2294b16eea08a15a')\n",
    "d.turn_off()"
   ]
  },
  {
   "cell_type": "markdown",
   "metadata": {},
   "source": [
    "Light engine is now set up, and so it is now possible to access the methods from the REST API. "
   ]
  },
  {
   "cell_type": "code",
   "execution_count": null,
   "metadata": {
    "scrolled": true
   },
   "outputs": [],
   "source": [
    "# Calibration - important to run to ensure colours are as expected\n",
    "import pyplr.calibrate as calb\n",
    "from importlib import reload\n",
    "reload(calb)\n",
    "# file type to be read must be in format of:\n",
    "# led | intensity | wavelength 1 (380) | wavelength 2 | ... | wavelength n (780)\n",
    "\n",
    "cc = calb.CalibrationContext(\n",
    "    'S2_corrected_oo_spectra.csv', binwidth=1)\n",
    "_ = cc.plot_calibrated_spectra()\n"
   ]
  },
  {
   "cell_type": "code",
   "execution_count": null,
   "metadata": {},
   "outputs": [],
   "source": [
    "# calculate the peak spectral sensitivity for each LED at its maximum intensity setting\n",
    "cc.lkp.xs(key=4095, level=1).idxmax(axis=1)"
   ]
  },
  {
   "cell_type": "code",
   "execution_count": null,
   "metadata": {},
   "outputs": [],
   "source": [
    "blue_led = (3,) #blue_led = 3. Had to change because of object type\n",
    "red_led = (9,) #red_led = 9\n",
    "target_lux = 800\n",
    "\n",
    "# Find the required intensity setting of the blue led for 800 lux\n",
    "blue_intensity = (cc.lux.loc[blue_led].sub(target_lux)\n",
    "                                      .abs()\n",
    "                                      .idxmin())\n",
    "#                                     .values[0])\n",
    "\n",
    "# Find the intensity setting of the red led for 800 lux\n",
    "red_intensity = cc.match(match_led=blue_led,\n",
    "                         match_led_intensity=blue_intensity,\n",
    "                         target_led=red_led,\n",
    "                         match_type='irrad')[1]"
   ]
  },
  {
   "cell_type": "code",
   "execution_count": null,
   "metadata": {},
   "outputs": [],
   "source": [
    "# note: melanopsin plot has been cut from cell above\n",
    "from pyplr import stlab\n",
    "import pandas as pd\n",
    "\n",
    "# sets the blue and red light specifications\n",
    "blue_spec, red_spec = [0]*10, [0]*10\n",
    "blue_spec[pd.to_numeric(blue_led)[0]] = blue_intensity\n",
    "red_spec[pd.to_numeric(red_led)[0]] = red_intensity\n",
    "d.turn_off()"
   ]
  },
  {
   "cell_type": "code",
   "execution_count": null,
   "metadata": {},
   "outputs": [],
   "source": [
    "from time import sleep\n",
    "# import random # not using this library unless we want to randomize stims\n",
    "from pyplr.pupil import PupilCore\n",
    "from pyplr.utils import unpack_data_pandas\n",
    "from pyplr.protocol import input_subject_id, subject_dir\n",
    "# Connect to Pupil Core - make sure you have turned on PupilCore software before running this cell\n",
    "p = PupilCore()\n",
    "p.check_3d_model() # asks whether to \"refit\" the model. If circles around pupils aren't dark blue, refit model"
   ]
  },
  {
   "cell_type": "markdown",
   "metadata": {},
   "source": [
    " Note\n",
    "        ----\n",
    "        Requires a suitable geometry and for the World Camera to be pointed at\n",
    "        the light source. Also requires the following settings in Pupil\n",
    "        Capture:\n",
    "\n",
    "        * Auto Exposure mode - Manual Exposure (eye and world)\n",
    "        * Frame publisher format - BGR"
   ]
  },
  {
   "cell_type": "code",
   "execution_count": null,
   "metadata": {
    "scrolled": true
   },
   "outputs": [],
   "source": [
    "# PIPR STIMS - USE THIS ONE\n",
    "# This is the actual stimulus administration. Make sure participant is comfortable and set up. \n",
    "# starts with a prompt to input subject ID - enter the 3 digit subject ID\n",
    "# once the subject ID is entered, it will take about 2 seconds before 1st (blue) flash\n",
    "# stimulus then takes 1 second, then there is about 90.5 seconds to next flash\n",
    "# in total, there are 6 flashes: starting with blue then alternating with red\n",
    "# this also tracks data from both pupil, so you can see both pupils on the laptop and ask participant to adjust as needed\n",
    "# output from this cell should include timestamps from the flash (exactly 6)\n",
    "# once 6th flash + 90s is done, there will be about 20s of \"Waiting for futures...\" being printed, before it is done\n",
    "# it will then output: PupilGrabber done grabbing 570 seconds of pupil.0.3d, PupilGrabber done grabbing 570 seconds of pupil.1.3d\n",
    "# finally, there will be a plot of each pupil against timestamps\n",
    "\n",
    "d.turn_off()\n",
    "subject_id = input_subject_id()\n",
    "subj_dir = subject_dir(subject_id)\n",
    "sleep(2)\n",
    "ISI = 85 # interstimulus time (seconds) = this variable + 5s due to sleep + processing\n",
    "num_trials = 6 # total number of trials\n",
    "run_time = ISI*num_trials + 5*num_trials + 30 # appropriate offset to account for stim duration + sleeps\n",
    "\n",
    "\n",
    "# Start a new recording called \"my_recording\"\n",
    "p.command('R my_recording')\n",
    "\n",
    "# Wait a few seconds\n",
    "sleep(2)\n",
    "\n",
    "# Make an annotation for when the light comes on\n",
    "annotation = p.new_annotation('LIGHT_ON')\n",
    "\n",
    "# Start the .light_stamper(...) and .pupil_grabber(...)\n",
    "# this only captures one eye\n",
    "# pgr_future = p.pupil_grabber(topic='pupil.1.3d', seconds=25) # time here is TOTAL run time\n",
    "pgr_future_eye1 = p.pupil_grabber(topic='pupil.1.3d', seconds=run_time) # time here is TOTAL run time\n",
    "pgr_future_eye0 = p.pupil_grabber(topic='pupil.0.3d', seconds=run_time) # time here is TOTAL run time\n",
    "\n",
    "sleep(2)\n",
    "##################################\n",
    "# Administer light stimulus here #\n",
    "led_list = [3,9]*3\n",
    "# random.shuffle(led_list) # use this if stims should be randomized\n",
    "for led in led_list:\n",
    "    intensities = [0]*10\n",
    "    if led == 3:\n",
    "        intensities[led] = int(blue_intensity)\n",
    "    else:\n",
    "        intensities[led] = int(red_intensity)\n",
    "    lst_future = p.light_stamper(annotation=annotation, timeout=10)\n",
    "    d.set_spectrum_a(intensities)\n",
    "    sleep(1.)\n",
    "    d.turn_off()\n",
    "    sleep(ISI)\n",
    "    sleep(5) # make sure there is extra time so that trials do not overlap\n",
    "##################################\n",
    "\n",
    "# Wait for the futures\n",
    "while lst_future.running() or pgr_future_eye0.running() or pgr_future_eye1.running():\n",
    "    print('Waiting for futures...')\n",
    "    sleep(1)\n",
    "\n",
    "# End recording\n",
    "p.command('r')\n",
    "\n",
    "# Get the timestamp and pupil data\n",
    "timestamp = lst_future.result()[1]\n",
    "data_eye0 = unpack_data_pandas(pgr_future_eye0.result())\n",
    "data_eye1 = unpack_data_pandas(pgr_future_eye1.result())\n",
    "# timestamps are displayed in the output as well\n",
    "# Plot the PLR\n",
    "ax_0 = data_eye0['diameter_3d'].plot()\n",
    "ax_0.axvline(x=timestamp, color='k')\n",
    "ax_1 = data_eye1['diameter_3d'].plot()\n",
    "ax_1.axvline(x=timestamp, color='k')"
   ]
  },
  {
   "cell_type": "code",
   "execution_count": null,
   "metadata": {},
   "outputs": [],
   "source": [
    "# display data from pandas table\n",
    "data_eye0"
   ]
  },
  {
   "cell_type": "code",
   "execution_count": null,
   "metadata": {},
   "outputs": [],
   "source": [
    "data_eye1"
   ]
  },
  {
   "cell_type": "code",
   "execution_count": null,
   "metadata": {},
   "outputs": [],
   "source": [
    "# this saves the raw data - IMPORTANT\n",
    "import os  \n",
    "\n",
    "# os.makedirs('C:/Users/kebl6975/Documents/GitHub/cvd_pupillometry/subjectdata', exist_ok=True) \n",
    "\n",
    "data_eye0.to_csv(path_base + subj_base + '-eye0.csv')\n",
    "data_eye1.to_csv(path_base + subj_base + '-eye1.csv')"
   ]
  },
  {
   "cell_type": "markdown",
   "metadata": {},
   "source": [
    "**DATA PROCESSING BEGINS BELOW**"
   ]
  },
  {
   "cell_type": "code",
   "execution_count": null,
   "metadata": {},
   "outputs": [],
   "source": [
    "samples_eye0 = data_eye0\n",
    "samples_eye1 = data_eye1"
   ]
  },
  {
   "cell_type": "code",
   "execution_count": null,
   "metadata": {},
   "outputs": [],
   "source": [
    "# Filtering and processing for eye 0\n",
    "from pyplr import graphing\n",
    "from pyplr import preproc\n",
    "import matplotlib.pyplot as plt\n",
    "\n",
    "# Sampling frequency\n",
    "SAMPLE_RATE = 120\n",
    "\n",
    "# Pupil columns to analyse\n",
    "pupil_cols = ['diameter_3d', 'diameter']\n",
    "\n",
    "# Make figure for processing\n",
    "#f, axs = graphing.pupil_preprocessing(nrows=4, subject='Example')\n",
    "fig, axs = plt.subplots(5, sharex=True, figsize=(10,10))\n",
    "fig.suptitle('Subject PLR')\n",
    "\n",
    "# Plot the raw data\n",
    "samples_eye0[pupil_cols].plot(title='Raw', ax=axs[0], legend=True)\n",
    "axs[0].legend(loc='center right', labels=['mm', 'pixels'])\n",
    "\n",
    "# Mask first derivative\n",
    "samples_eye0 = preproc.mask_pupil_first_derivative(\n",
    "    samples_eye0, threshold=3.0, mask_cols=pupil_cols)\n",
    "samples_eye0[pupil_cols].plot(\n",
    "    title='Masked 1st deriv (3*SD)', ax=axs[1], legend=False)\n",
    "\n",
    "# Mask confidence\n",
    "samples_eye0 = preproc.mask_pupil_confidence(\n",
    "    samples_eye0, threshold=0.8, mask_cols=pupil_cols)\n",
    "samples_eye0[pupil_cols].plot(\n",
    "    title='Masked confidence (<0.8)', ax=axs[2], legend=False)\n",
    "\n",
    "# Interpolate\n",
    "samples_eye0 = preproc.interpolate_pupil(\n",
    "    samples_eye0, interp_cols=pupil_cols)\n",
    "samples_eye0[pupil_cols].plot(\n",
    "    title='Linear interpolation', ax=axs[3], legend=False)\n",
    "\n",
    "# Smooth\n",
    "samples_eye0 = preproc.butterworth_series(\n",
    "    samples_eye0, fields=pupil_cols, filt_order=3,\n",
    "    cutoff_freq=4/(SAMPLE_RATE/2))\n",
    "samples_eye0[pupil_cols].plot(\n",
    "    title='3rd order Butterworth filter with 4 Hz cut-off',\n",
    "    ax=axs[4], legend=False);"
   ]
  },
  {
   "cell_type": "code",
   "execution_count": null,
   "metadata": {},
   "outputs": [],
   "source": [
    "# export butterworth processed sample data for eye 0 - IMPORTANT\n",
    "samples_eye0.to_csv(path_base + subj_base + '-butterworth-eye0.csv') # raw data"
   ]
  },
  {
   "cell_type": "code",
   "execution_count": null,
   "metadata": {},
   "outputs": [],
   "source": [
    "# Filtering and processing for eye 1\n",
    "# Sampling frequency\n",
    "SAMPLE_RATE = 120\n",
    "\n",
    "# Pupil columns to analyse\n",
    "pupil_cols = ['diameter_3d', 'diameter']\n",
    "\n",
    "# Make figure for processing\n",
    "#f, axs = graphing.pupil_preprocessing(nrows=4, subject='Example')\n",
    "fig, axs = plt.subplots(5, sharex=True, figsize=(10,10))\n",
    "fig.suptitle('Subject PLR')\n",
    "\n",
    "# Plot the raw data\n",
    "samples_eye1[pupil_cols].plot(title='Raw', ax=axs[0], legend=True)\n",
    "axs[0].legend(loc='center right', labels=['mm', 'pixels'])\n",
    "\n",
    "# Mask first derivative\n",
    "samples_eye1 = preproc.mask_pupil_first_derivative(\n",
    "    samples_eye1, threshold=3.0, mask_cols=pupil_cols)\n",
    "samples_eye1[pupil_cols].plot(\n",
    "    title='Masked 1st deriv (3*SD)', ax=axs[1], legend=False)\n",
    "\n",
    "# Mask confidence\n",
    "samples_eye1 = preproc.mask_pupil_confidence(\n",
    "    samples_eye1, threshold=0.8, mask_cols=pupil_cols)\n",
    "samples_eye1[pupil_cols].plot(\n",
    "    title='Masked confidence (<0.8)', ax=axs[2], legend=False)\n",
    "\n",
    "# Interpolate\n",
    "samples_eye1 = preproc.interpolate_pupil(\n",
    "    samples_eye1, interp_cols=pupil_cols)\n",
    "samples_eye1[pupil_cols].plot(\n",
    "    title='Linear interpolation', ax=axs[3], legend=False)\n",
    "\n",
    "# Smooth\n",
    "samples_eye1 = preproc.butterworth_series(\n",
    "    samples_eye1, fields=pupil_cols, filt_order=3,\n",
    "    cutoff_freq=4/(SAMPLE_RATE/2))\n",
    "samples_eye1[pupil_cols].plot(\n",
    "    title='3rd order Butterworth filter with 4 Hz cut-off',\n",
    "    ax=axs[4], legend=False);"
   ]
  },
  {
   "cell_type": "code",
   "execution_count": null,
   "metadata": {},
   "outputs": [],
   "source": [
    "# export butterworth processed sample data for eye 1 - IMPORTANT\n",
    "samples_eye1.to_csv(path_base + subj_base + '-butterworth-eye1.csv') # raw data\n",
    "# can stop here if necessary"
   ]
  },
  {
   "cell_type": "markdown",
   "metadata": {},
   "source": [
    "**STOP HERE AND DO ANALYSIS LATER**"
   ]
  },
  {
   "cell_type": "code",
   "execution_count": null,
   "metadata": {},
   "outputs": [],
   "source": [
    "import matplotlib.pyplot as plt\n",
    "import numpy as np\n",
    "import pandas as pd"
   ]
  },
  {
   "cell_type": "code",
   "execution_count": null,
   "metadata": {},
   "outputs": [],
   "source": [
    "# df_pipr = pd.read_csv(\"C:/Users/kebl6975/Documents/GitHub/cvd_pupillometry/subjectdata/sub-999_ses-02_dat-20230419.csv\")\n",
    "df_pipr_eye0 = pd.read_csv(path_base + subj_base + '-eye0.csv')\n",
    "df_pipr_eye1 = pd.read_csv(path_base + subj_base + '-eye1.csv')\n",
    "\n",
    "# Print header names\n",
    "# print(df_pipr.columns)\n",
    "\n",
    "# Extract the column with header \"timestamp\"\n",
    "timestamps_eye0 = df_pipr_eye0[\"timestamp\"]\n",
    "timestamps_eye1 = df_pipr_eye1[\"timestamp\"]\n",
    "# Extract the column with header \"diameter_3d\"\n",
    "diam_3d_eye0 = df_pipr_eye0[\"diameter_3d\"]\n",
    "diam_3d_eye1 = df_pipr_eye1[\"diameter_3d\"]"
   ]
  },
  {
   "cell_type": "code",
   "execution_count": null,
   "metadata": {},
   "outputs": [],
   "source": [
    "fig = plt.figure()\n",
    "# plot eye0 in red, eye1 in blue\n",
    "plt.plot(timestamps_eye0, diam_3d_eye0, 'r') # this should be the smoothed out data - if not, check\n",
    "plt.plot(timestamps_eye1, diam_3d_eye1, 'b') # this should be the smoothed out data - if not, check"
   ]
  },
  {
   "cell_type": "markdown",
   "metadata": {},
   "source": [
    "This is copied from the output of cell 11\n",
    "> Light stamped on frame.world at 31031.85642\n",
    "> Waiting for a light to stamp...\n",
    "> Light stamped on frame.world at 31158.285079\n",
    "> Waiting for a light to stamp...\n",
    "> Light stamped on frame.world at 31284.777037\n",
    "> Waiting for a light to stamp...\n",
    "> Light stamped on frame.world at 31411.245427\n",
    "> Waiting for a light to stamp...\n",
    "> Light stamped on frame.world at 31537.774172\n",
    "> Waiting for a light to stamp...\n",
    "> Light stamped on frame.world at 31664.31662"
   ]
  },
  {
   "cell_type": "markdown",
   "metadata": {},
   "source": [
    "**Edit Cell Below with Timestamps**"
   ]
  },
  {
   "cell_type": "code",
   "execution_count": null,
   "metadata": {},
   "outputs": [],
   "source": [
    "# NEED TO EDIT THIS WITH NEW TIMESTAMPS\n",
    "# finds indices of each timestamp (or closest one before, if exact match cannot be found).\n",
    "# finds list of timestamps where condition is true, extracts array of just this, then takes last value (closest stamp)\n",
    "stamp1 = np.where(timestamps_eye0 <= 500548.684061)[0][-1]\n",
    "stamp2 = np.where(timestamps_eye0 <= 500640.209426)[0][-1]\n",
    "stamp3 = np.where(timestamps_eye0 <= 500731.603996)[0][-1]\n",
    "stamp4 = np.where(timestamps_eye0 <= 500823.042564)[0][-1]\n",
    "stamp5 = np.where(timestamps_eye0 <= 500914.477428)[0][-1]\n",
    "stamp6 = np.where(timestamps_eye0 <= 501005.93432)[0][-1]\n",
    "stamps_eye0 = [stamp1, stamp2, stamp3, stamp4, stamp5, stamp6]\n",
    "stamps_eye0"
   ]
  },
  {
   "cell_type": "code",
   "execution_count": null,
   "metadata": {},
   "outputs": [],
   "source": [
    "# NEED TO EDIT THIS WITH NEW TIMESTAMPS\n",
    "# finds indices of each timestamp (or closest one before, if exact match cannot be found).\n",
    "# finds list of timestamps where condition is true, extracts array of just this, then takes last value (closest stamp)\n",
    "stamp1 = np.where(timestamps_eye1 <= 500548.684061)[0][-1]\n",
    "stamp2 = np.where(timestamps_eye1 <= 500640.209426)[0][-1]\n",
    "stamp3 = np.where(timestamps_eye1 <= 500731.603996)[0][-1]\n",
    "stamp4 = np.where(timestamps_eye1 <= 500823.042564)[0][-1]\n",
    "stamp5 = np.where(timestamps_eye1 <= 500914.477428)[0][-1]\n",
    "stamp6 = np.where(timestamps_eye1 <= 501005.93432)[0][-1]\n",
    "stamps_eye1 = [stamp1, stamp2, stamp3, stamp4, stamp5, stamp6]\n",
    "stamps_eye1"
   ]
  },
  {
   "cell_type": "code",
   "execution_count": null,
   "metadata": {},
   "outputs": [],
   "source": [
    "from pyplr import utils\n",
    "from copy import deepcopy"
   ]
  },
  {
   "cell_type": "code",
   "execution_count": null,
   "metadata": {},
   "outputs": [],
   "source": [
    "df_data_eye0 = df_pipr_eye0[['timestamp', 'confidence','id','diameter','diameter_3d']]\n",
    "df_data_eye1 = df_pipr_eye1[['timestamp', 'confidence','id','diameter','diameter_3d']]\n",
    "df_data_eye1"
   ]
  },
  {
   "cell_type": "markdown",
   "metadata": {},
   "source": [
    "**Extract ranges from samples based on event timing and sample count, eye 0**\n",
    "\n",
    "Adapted from extract() from utils.py. Set variables - change as necessary. \n",
    "Note: even though ISI is 120, we only want 60s of post measurement"
   ]
  },
  {
   "cell_type": "code",
   "execution_count": null,
   "metadata": {},
   "outputs": [],
   "source": [
    "samples_eye0 = df_data_eye0\n",
    "event_starts_eye0 = stamps_eye0\n",
    "onset_time = 1\n",
    "duration_time = 60\n",
    "offset = -60*onset_time # 60 sample rate, start 1s before light to get baseline\n",
    "duration = 60*duration_time  # 60 sample rate\n",
    "\n",
    "# find the indexes of the event starts, and offset by sample count\n",
    "range_idxs_eye0 = (\n",
    "    np.searchsorted(samples_eye0.index, event_starts_eye0, \"left\") + offset\n",
    ")\n",
    "range_duration = duration"
   ]
  },
  {
   "cell_type": "code",
   "execution_count": null,
   "metadata": {},
   "outputs": [],
   "source": [
    "range_idxs_eye0"
   ]
  },
  {
   "cell_type": "code",
   "execution_count": null,
   "metadata": {},
   "outputs": [],
   "source": [
    "# make a hierarchical index for eye 0\n",
    "samples_eye0[\"orig_idx\"] = samples_eye0.index\n",
    "midx = pd.MultiIndex.from_product(\n",
    "    [list(range(len(event_starts_eye0))), list(range(range_duration))],\n",
    "    names=[\"event\", \"onset\"],\n",
    ")\n",
    "\n",
    "# TODO: can add option for time index here\n",
    "\n",
    "# get the samples\n",
    "df_eye0 = pd.DataFrame()\n",
    "idx = 0\n",
    "for start_idx in range_idxs_eye0:\n",
    "    # get the start time and add the required number of indices\n",
    "    end_idx = start_idx + range_duration - 1  # .loc indexing is inclusive\n",
    "    if end_idx >= len(samples_eye0):\n",
    "        end_idx = len(samples_eye0) - 1\n",
    "    new_df_eye0 = deepcopy(\n",
    "        samples_eye0.loc[samples_eye0.index[start_idx] : samples_eye0.index[end_idx]]\n",
    "    )\n",
    "    #for ba in borrow_attributes:\n",
    "        #new_df[ba] = events.iloc[idx].get(ba, float(\"nan\"))\n",
    "    df_eye0 = pd.concat([df_eye0, new_df_eye0])\n",
    "    idx += 1\n",
    "    \n",
    "# if there is an error that doesn't allow the new indices to be set (size mismatch), use the if loop below\n",
    "if (len(df_eye0)!= len(midx)):\n",
    "    df_test = df_eye0\n",
    "    temp_df = deepcopy(df_eye0.loc[df_eye0.index[-1] : df_eye0.index[-1]])\n",
    "    while len(df_eye0) != len(midx):\n",
    "        df_eye0= pd.concat([df_eye0, temp_df])\n",
    "\n",
    "df_eye0.index = midx\n",
    "print(\"Extracted ranges for {} events\".format(len(event_starts_eye0)))"
   ]
  },
  {
   "cell_type": "code",
   "execution_count": null,
   "metadata": {},
   "outputs": [],
   "source": [
    "df_eye0.index"
   ]
  },
  {
   "cell_type": "markdown",
   "metadata": {},
   "source": [
    "**Extract ranges from samples based on event timing and sample count, eye 1**\n",
    "\n",
    "Adapted from extract() from utils.py. Set variables - change as necessary. \n",
    "Note: even though ISI is 120, we only want 60s of post measurement"
   ]
  },
  {
   "cell_type": "code",
   "execution_count": null,
   "metadata": {},
   "outputs": [],
   "source": [
    "samples_eye1 = df_data_eye1\n",
    "event_starts_eye1 = stamps_eye1 \n",
    "onset_time = 1\n",
    "duration_time = 60\n",
    "offset = -60*onset_time # 60 sample rate, start 1s before light to get baseline\n",
    "duration = 60*duration_time  # 60 sample rate\n",
    "\n",
    "# find the indexes of the event starts, and offset by sample count\n",
    "range_idxs_eye1 = (\n",
    "    np.searchsorted(samples_eye1.index, event_starts_eye1, \"left\") + offset\n",
    ")\n",
    "range_duration = duration"
   ]
  },
  {
   "cell_type": "code",
   "execution_count": null,
   "metadata": {},
   "outputs": [],
   "source": [
    "range_idxs_eye1"
   ]
  },
  {
   "cell_type": "code",
   "execution_count": null,
   "metadata": {},
   "outputs": [],
   "source": [
    "# make a hierarchical index for eye 1\n",
    "samples_eye1[\"orig_idx\"] = samples_eye1.index\n",
    "midx = pd.MultiIndex.from_product(\n",
    "    [list(range(len(event_starts_eye1))), list(range(range_duration))],\n",
    "    names=[\"event\", \"onset\"],\n",
    ")\n",
    "\n",
    "# TODO: can add option for time index here\n",
    "\n",
    "# get the samples\n",
    "df_eye1 = pd.DataFrame()\n",
    "idx = 0\n",
    "for start_idx in range_idxs_eye1:\n",
    "    # get the start time and add the required number of indices\n",
    "    end_idx = start_idx + range_duration - 1  # .loc indexing is inclusive\n",
    "    if end_idx >= len(samples_eye1):\n",
    "        end_idx = len(samples_eye1) - 1\n",
    "    new_df_eye1 = deepcopy(\n",
    "        samples_eye1.loc[samples_eye1.index[start_idx] : samples_eye1.index[end_idx]]\n",
    "    )\n",
    "    #for ba in borrow_attributes:\n",
    "        #new_df[ba] = events.iloc[idx].get(ba, float(\"nan\"))\n",
    "    df_eye1 = pd.concat([df_eye1, new_df_eye1])\n",
    "    idx += 1\n",
    "# if there is an error that doesn't allow the new indices to be set (size mismatch), use the if loop below\n",
    "if (len(df_eye1)!= len(midx)):\n",
    "    df_test = df_eye1\n",
    "    temp_df = deepcopy(df_eye1.loc[df_eye1.index[-1] : df_eye1.index[-1]])\n",
    "    while len(df_eye1) != len(midx):\n",
    "        df_eye1= pd.concat([df_eye1, temp_df])\n",
    "df_eye1.index = midx\n",
    "print(\"Extracted ranges for {} events\".format(len(event_starts_eye1)))"
   ]
  },
  {
   "cell_type": "code",
   "execution_count": null,
   "metadata": {},
   "outputs": [],
   "source": [
    "df_eye1.index"
   ]
  },
  {
   "cell_type": "markdown",
   "metadata": {},
   "source": [
    "**Re-run the processing on the multi-index data, eye 0**"
   ]
  },
  {
   "cell_type": "code",
   "execution_count": null,
   "metadata": {},
   "outputs": [],
   "source": [
    "from pyplr import graphing\n",
    "from pyplr import preproc\n",
    "# Calculate baselines\n",
    "baselines_eye0 = df_eye0.loc[:, range(0, -offset), :].mean(level=0)\n",
    "\n",
    "# New columns for percent signal change\n",
    "df_eye0 = preproc.percent_signal_change(\n",
    "    df_eye0, baselines_eye0, ['diameter_3d', 'diameter'])\n",
    "df_eye0"
   ]
  },
  {
   "cell_type": "code",
   "execution_count": null,
   "metadata": {},
   "outputs": [],
   "source": [
    "from pyplr import graphing\n",
    "from pyplr import preproc\n",
    "\n",
    "# Sampling frequency\n",
    "SAMPLE_RATE = 120\n",
    "samples_eye0 = df_eye0\n",
    "\n",
    "# Pupil columns to analyse\n",
    "pupil_cols = ['diameter_3d', 'diameter']\n",
    "\n",
    "# Make figure for processing\n",
    "#f, axs = graphing.pupil_preprocessing(nrows=4, subject='Example')\n",
    "fig, axs = plt.subplots(5, sharex=True, figsize=(10,10))\n",
    "fig.suptitle('Subject PLR')\n",
    "\n",
    "# Plot the raw data\n",
    "samples_eye0[pupil_cols].plot(title='Raw', ax=axs[0], legend=True)\n",
    "axs[0].legend(loc='center right', labels=['mm', 'pixels'])\n",
    "\n",
    "# Mask first derivative\n",
    "samples_eye0 = preproc.mask_pupil_first_derivative(\n",
    "    samples_eye0, threshold=3.0, mask_cols=pupil_cols)\n",
    "samples_eye0[pupil_cols].plot(\n",
    "    title='Masked 1st deriv (3*SD)', ax=axs[1], legend=False)\n",
    "\n",
    "# Mask confidence\n",
    "samples_eye0 = preproc.mask_pupil_confidence(\n",
    "    samples_eye0, threshold=0.8, mask_cols=pupil_cols)\n",
    "samples_eye0[pupil_cols].plot(\n",
    "    title='Masked confidence (<0.8)', ax=axs[2], legend=False)\n",
    "\n",
    "# Interpolate\n",
    "samples_eye0 = preproc.interpolate_pupil(\n",
    "    samples_eye0, interp_cols=pupil_cols)\n",
    "samples_eye0[pupil_cols].plot(\n",
    "    title='Linear interpolation', ax=axs[3], legend=False)\n",
    "\n",
    "# Smooth\n",
    "samples_eye0 = preproc.butterworth_series(\n",
    "    samples_eye0, fields=pupil_cols, filt_order=3,\n",
    "    cutoff_freq=4/(SAMPLE_RATE/2))\n",
    "samples_eye0[pupil_cols].plot(\n",
    "    title='3rd order Butterworth filter with 4 Hz cut-off',\n",
    "    ax=axs[4], legend=False);"
   ]
  },
  {
   "cell_type": "code",
   "execution_count": null,
   "metadata": {},
   "outputs": [],
   "source": [
    "samples_eye0 # this now has the processed data with blinks removed\n",
    "# where confidence < 0.8, it interpolates the data\n",
    "# need to run these to improve the outputs\n",
    "# TODO: double check what df is after this processing"
   ]
  },
  {
   "cell_type": "code",
   "execution_count": null,
   "metadata": {},
   "outputs": [],
   "source": [
    "df_eye0"
   ]
  },
  {
   "cell_type": "markdown",
   "metadata": {},
   "source": [
    "**Re-run processing on multi-index data, eye 1**"
   ]
  },
  {
   "cell_type": "code",
   "execution_count": null,
   "metadata": {},
   "outputs": [],
   "source": [
    "# Calculate baselines\n",
    "baselines_eye1 = df_eye1.loc[:, range(0, -offset), :].mean(level=0)\n",
    "\n",
    "# New columns for percent signal change\n",
    "df_eye1 = preproc.percent_signal_change(\n",
    "    df_eye1, baselines_eye1, ['diameter_3d', 'diameter'])\n",
    "df_eye1"
   ]
  },
  {
   "cell_type": "code",
   "execution_count": null,
   "metadata": {},
   "outputs": [],
   "source": [
    "# Sampling frequency\n",
    "SAMPLE_RATE = 120\n",
    "samples_eye1 = df_eye1\n",
    "\n",
    "# Pupil columns to analyse\n",
    "pupil_cols = ['diameter_3d', 'diameter']\n",
    "\n",
    "# Make figure for processing\n",
    "#f, axs = graphing.pupil_preprocessing(nrows=4, subject='Example')\n",
    "fig, axs = plt.subplots(5, sharex=True, figsize=(10,10))\n",
    "fig.suptitle('Subject PLR')\n",
    "\n",
    "# Plot the raw data\n",
    "samples_eye1[pupil_cols].plot(title='Raw', ax=axs[0], legend=True)\n",
    "axs[0].legend(loc='center right', labels=['mm', 'pixels'])\n",
    "\n",
    "# Mask first derivative\n",
    "samples_eye1 = preproc.mask_pupil_first_derivative(\n",
    "    samples_eye1, threshold=3.0, mask_cols=pupil_cols)\n",
    "samples_eye1[pupil_cols].plot(\n",
    "    title='Masked 1st deriv (3*SD)', ax=axs[1], legend=False)\n",
    "\n",
    "# Mask confidence\n",
    "samples_eye1 = preproc.mask_pupil_confidence(\n",
    "    samples_eye1, threshold=0.8, mask_cols=pupil_cols)\n",
    "samples_eye1[pupil_cols].plot(\n",
    "    title='Masked confidence (<0.8)', ax=axs[2], legend=False)\n",
    "\n",
    "# Interpolate\n",
    "samples_eye1 = preproc.interpolate_pupil(\n",
    "    samples_eye1, interp_cols=pupil_cols)\n",
    "samples_eye1[pupil_cols].plot(\n",
    "    title='Linear interpolation', ax=axs[3], legend=False)\n",
    "\n",
    "# Smooth\n",
    "samples_eye1 = preproc.butterworth_series(\n",
    "    samples_eye1, fields=pupil_cols, filt_order=3,\n",
    "    cutoff_freq=4/(SAMPLE_RATE/2))\n",
    "samples_eye1[pupil_cols].plot(\n",
    "    title='3rd order Butterworth filter with 4 Hz cut-off',\n",
    "    ax=axs[4], legend=False);"
   ]
  },
  {
   "cell_type": "code",
   "execution_count": null,
   "metadata": {},
   "outputs": [],
   "source": [
    "samples_eye1 # this now has the processed data with blinks removed\n",
    "# where confidence < 0.8, it interpolates the data\n",
    "# need to run these to improve the outputs\n",
    "# TODO: double check what df is after this processing"
   ]
  },
  {
   "cell_type": "code",
   "execution_count": null,
   "metadata": {},
   "outputs": [],
   "source": [
    "df_eye1"
   ]
  },
  {
   "cell_type": "markdown",
   "metadata": {},
   "source": [
    "**Convert the index-level samples to time (s)**:"
   ]
  },
  {
   "cell_type": "code",
   "execution_count": null,
   "metadata": {},
   "outputs": [],
   "source": [
    "ONSET_IDX = 60\n",
    "SAMPLE_RATE = 60\n",
    "new_onset = (df_eye0.index.get_level_values('onset')\n",
    "                    .unique()\n",
    "            - ONSET_IDX) / SAMPLE_RATE\n",
    "df_eye0.index = df_eye0.index.set_levels(\n",
    "    levels=new_onset, level='onset')"
   ]
  },
  {
   "cell_type": "code",
   "execution_count": null,
   "metadata": {},
   "outputs": [],
   "source": [
    "df_eye0[\"colour\"] = \"\""
   ]
  },
  {
   "cell_type": "code",
   "execution_count": null,
   "metadata": {},
   "outputs": [],
   "source": [
    "for (event, onset) in df_eye0.index:\n",
    "    if event%2==1:\n",
    "        df_eye0[\"colour\"][event,onset] = \"red\"\n",
    "    else:\n",
    "        df_eye0[\"colour\"][event,onset] = \"blue\""
   ]
  },
  {
   "cell_type": "code",
   "execution_count": null,
   "metadata": {},
   "outputs": [],
   "source": [
    "ONSET_IDX = 60\n",
    "SAMPLE_RATE = 60\n",
    "new_onset = (df_eye1.index.get_level_values('onset')\n",
    "                    .unique()\n",
    "            - ONSET_IDX) / SAMPLE_RATE\n",
    "df_eye1.index = df_eye1.index.set_levels(\n",
    "    levels=new_onset, level='onset')"
   ]
  },
  {
   "cell_type": "code",
   "execution_count": null,
   "metadata": {},
   "outputs": [],
   "source": [
    "df_eye1[\"colour\"] = \"\""
   ]
  },
  {
   "cell_type": "code",
   "execution_count": null,
   "metadata": {},
   "outputs": [],
   "source": [
    "for (event, onset) in df_eye1.index:\n",
    "    if event%2==1:\n",
    "        df_eye1[\"colour\"][event,onset] = \"red\"\n",
    "    else:\n",
    "        df_eye1[\"colour\"][event,onset] = \"blue\""
   ]
  },
  {
   "cell_type": "markdown",
   "metadata": {},
   "source": [
    "**Plot the PIPR:**"
   ]
  },
  {
   "cell_type": "code",
   "execution_count": null,
   "metadata": {},
   "outputs": [],
   "source": [
    "import seaborn as sns\n",
    "fig, ax = plt.subplots(figsize=(6,4))\n",
    "for r in range(5):\n",
    "    if (r==0 or r%2==0):\n",
    "        c = 'blue'\n",
    "    else:\n",
    "        c = 'red'\n",
    "    df_eye0.loc[r, 'diameter_pc'].plot(\n",
    "        color=c, lw='.1', ax=ax, legend=False)\n",
    "\n",
    "# Now show the means\n",
    "avgs_eye0 = (df_eye0.reset_index()\n",
    "                .groupby(['colour','onset'], as_index=False)\n",
    "                .mean())\n",
    "sns.lineplot(data=avgs_eye0, x='onset', y='diameter_pc', hue='colour',\n",
    "                palette={'blue':'b','red':'r'}, legend=False)\n",
    "\n",
    "# Tweak figures\n",
    "ax.axvspan(0, 1, color='k', alpha=.1)\n",
    "ax.axhline(0, 0, 1, color='k', ls='--')\n",
    "ax.set_xlabel('Time (s)')\n",
    "ax.set_ylabel('Pupil diameter \\n(%-change from baseline)')\n",
    "ax.set_title('Subject = {}'.format(df_eye0['id'][0][0]))"
   ]
  },
  {
   "cell_type": "code",
   "execution_count": null,
   "metadata": {},
   "outputs": [],
   "source": [
    "import os\n",
    "if not os.path.exists(path_base + 'figures'):\n",
    "    os.makedirs(path_base + 'figures')\n",
    "# Save the figure in the folder\n",
    "fig.savefig(path_base + 'figures/' + subj_base + '-eye0.png')"
   ]
  },
  {
   "cell_type": "code",
   "execution_count": null,
   "metadata": {},
   "outputs": [],
   "source": [
    "df_eye0 # check all is as expected before sending to csv"
   ]
  },
  {
   "cell_type": "code",
   "execution_count": null,
   "metadata": {},
   "outputs": [],
   "source": [
    "df_eye0.to_csv(path_base + subj_base + '-processed-eye0.csv') # processed data with adjusted onset indices (time in seconds)"
   ]
  },
  {
   "cell_type": "code",
   "execution_count": null,
   "metadata": {},
   "outputs": [],
   "source": [
    "samples_eye0[\"diameter_3d\"].plot()"
   ]
  },
  {
   "cell_type": "code",
   "execution_count": null,
   "metadata": {},
   "outputs": [],
   "source": [
    "avgs_eye0.to_csv(path_base + subj_base + '-average-pipr-eye0.csv') # processed data with adjusted onset indices (time in seconds)"
   ]
  },
  {
   "cell_type": "code",
   "execution_count": null,
   "metadata": {},
   "outputs": [],
   "source": [
    "df_eye1"
   ]
  },
  {
   "cell_type": "code",
   "execution_count": null,
   "metadata": {},
   "outputs": [],
   "source": [
    "import seaborn as sns\n",
    "fig, ax = plt.subplots(figsize=(6,4))\n",
    "for r in range(5):\n",
    "    if (r==0 or r%2==0):\n",
    "        c = 'blue'\n",
    "    else:\n",
    "        c = 'red'\n",
    "    df_eye1.loc[r, 'diameter_pc'].plot(\n",
    "        color=c, lw='.1', ax=ax, legend=False)\n",
    "\n",
    "# Now show the means\n",
    "avgs_eye1 = (df_eye1.reset_index()\n",
    "                .groupby(['colour','onset'], as_index=False)\n",
    "                .mean())\n",
    "sns.lineplot(data=avgs_eye1, x='onset', y='diameter_pc', hue='colour',\n",
    "                palette={'blue':'b','red':'r'}, legend=False)\n",
    "\n",
    "# Tweak figures\n",
    "ax.axvspan(0, 1, color='k', alpha=.1)\n",
    "ax.axhline(0, 0, 1, color='k', ls='--')\n",
    "ax.set_xlabel('Time (s)')\n",
    "ax.set_ylabel('Pupil diameter \\n(%-change from baseline)')\n",
    "ax.set_title('Subject = {}'.format(df_eye1['id'][0][0]))"
   ]
  },
  {
   "cell_type": "code",
   "execution_count": null,
   "metadata": {},
   "outputs": [],
   "source": [
    "if not os.path.exists(path_base + 'figures'):\n",
    "    os.makedirs(path_base + 'figures')\n",
    "# Save the figure in the folder\n",
    "fig.savefig(path_base + 'figures/' + subj_base + '-eye1.png')"
   ]
  },
  {
   "cell_type": "code",
   "execution_count": null,
   "metadata": {},
   "outputs": [],
   "source": [
    "df_eye1 # check all is as expected before sending to csv"
   ]
  },
  {
   "cell_type": "code",
   "execution_count": null,
   "metadata": {},
   "outputs": [],
   "source": [
    "df_eye1.to_csv(path_base + subj_base + '-processed-eye1.csv') # processed data with adjusted onset indices (time in seconds)"
   ]
  },
  {
   "cell_type": "code",
   "execution_count": null,
   "metadata": {},
   "outputs": [],
   "source": [
    "samples_eye1[\"diameter_3d\"].plot()"
   ]
  },
  {
   "cell_type": "code",
   "execution_count": null,
   "metadata": {},
   "outputs": [],
   "source": [
    "avgs_eye1.to_csv(path_base + subj_base + '-average-pipr-eye1.csv') # processed data with adjusted onset indices (time in seconds)"
   ]
  },
  {
   "cell_type": "markdown",
   "metadata": {},
   "source": [
    "**Compute the pupillary light response (optional, skip for now):**"
   ]
  },
  {
   "cell_type": "code",
   "execution_count": null,
   "metadata": {},
   "outputs": [],
   "source": [
    "# adapt this to separate red and blue\n",
    "from pyplr.plr import PLR\n",
    "\n",
    "average_plr = df.mean(level=1)['diameter_3d'].to_numpy()\n",
    "plr = PLR(average_plr,\n",
    "          sample_rate=60,\n",
    "          onset_idx=-offset,\n",
    "          stim_duration=1)"
   ]
  },
  {
   "cell_type": "code",
   "execution_count": null,
   "metadata": {},
   "outputs": [],
   "source": [
    "fig = plr.plot(vel=True, acc=True, print_params=True)"
   ]
  },
  {
   "cell_type": "code",
   "execution_count": null,
   "metadata": {},
   "outputs": [],
   "source": [
    "params = plr.parameters()\n",
    "params"
   ]
  },
  {
   "cell_type": "markdown",
   "metadata": {},
   "source": [
    "**Compute the PIPR:**"
   ]
  },
  {
   "cell_type": "code",
   "execution_count": null,
   "metadata": {},
   "outputs": [],
   "source": [
    "# code to calculate PIPR at given time\n",
    "pipr_time = 7 # measure PIPR at t=7s (6s after stimulus turned off)\n",
    "print(avgs_eye0.loc[avgs_eye0[\"onset\"] == pipr_time])\n",
    "print(avgs_eye1.loc[avgs_eye1[\"onset\"] == pipr_time])"
   ]
  },
  {
   "cell_type": "code",
   "execution_count": null,
   "metadata": {},
   "outputs": [],
   "source": [
    "# eye 0\n",
    "blue_d_pipr_eye0 = avgs_eye0[\"diameter_3d\"][480]\n",
    "red_d_pipr_eye0 = avgs_eye0[\"diameter_3d\"][4080]\n",
    "blue_d_pipr_pc_eye0 = avgs_eye0[\"diameter_3d_pc\"][480]\n",
    "red_d_pipr_pc_eye0 = avgs_eye0[\"diameter_3d_pc\"][4080]\n",
    "pipr_diff_eye0 = red_d_pipr_eye0 - blue_d_pipr_eye0\n",
    "pipr_pc_diff_eye0 = red_d_pipr_pc_eye0 - blue_d_pipr_pc_eye0\n",
    "print(\"PIPR (Absolute Difference), Eye 0: \", pipr_diff_eye0)\n",
    "print(\"PIPR (Percent Change), Eye 0: \", pipr_pc_diff_eye0)"
   ]
  },
  {
   "cell_type": "code",
   "execution_count": null,
   "metadata": {},
   "outputs": [],
   "source": [
    "# eye 1\n",
    "blue_d_pipr_eye1 = avgs_eye1[\"diameter_3d\"][480]\n",
    "red_d_pipr_eye1 = avgs_eye1[\"diameter_3d\"][4080]\n",
    "blue_d_pipr_pc_eye1 = avgs_eye1[\"diameter_3d_pc\"][480]\n",
    "red_d_pipr_pc_eye1 = avgs_eye1[\"diameter_3d_pc\"][4080]\n",
    "pipr_diff_eye1 = red_d_pipr_eye1 - blue_d_pipr_eye1\n",
    "pipr_pc_diff_eye1 = red_d_pipr_pc_eye1 - blue_d_pipr_pc_eye1\n",
    "print(\"PIPR (Absolute Difference), Eye 1: \", pipr_diff_eye1)\n",
    "print(\"PIPR (Percent Change), Eye 1: \", pipr_pc_diff_eye1)"
   ]
  }
 ],
 "metadata": {
  "kernelspec": {
   "display_name": "Python 3 (ipykernel)",
   "language": "python",
   "name": "python3"
  },
  "language_info": {
   "codemirror_mode": {
    "name": "ipython",
    "version": 3
   },
   "file_extension": ".py",
   "mimetype": "text/x-python",
   "name": "python",
   "nbconvert_exporter": "python",
   "pygments_lexer": "ipython3",
   "version": "3.11.7"
  },
  "vscode": {
   "interpreter": {
    "hash": "4ce50c693e2523f7cccde82e42ebcfbd665d29c02cdad852b853bc044d8ef3b2"
   }
  }
 },
 "nbformat": 4,
 "nbformat_minor": 4
}
