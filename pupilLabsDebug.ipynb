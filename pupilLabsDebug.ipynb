{
 "cells": [
  {
   "cell_type": "code",
   "execution_count": null,
   "id": "29a3a999",
   "metadata": {},
   "outputs": [],
   "source": [
    "# Set up stlab\n",
    "from pyplr import stlab\n",
    "d = stlab.SpectraTuneLab(password='2294b16eea08a15a')\n",
    "d.turn_off()"
   ]
  },
  {
   "cell_type": "code",
   "execution_count": null,
   "id": "e3f8f925",
   "metadata": {},
   "outputs": [],
   "source": [
    "from time import sleep\n",
    "from pyplr.pupil import PupilCore\n",
    "\n",
    "p = PupilCore()\n",
    "\n",
    "p.command('R our_recording')\n",
    "\n",
    "sleep(1)\n",
    "\n",
    "p.command('r')"
   ]
  },
  {
   "cell_type": "code",
   "execution_count": null,
   "id": "53a3ce55",
   "metadata": {},
   "outputs": [],
   "source": [
    "p.check_3d_model()"
   ]
  },
  {
   "cell_type": "code",
   "execution_count": null,
   "id": "8c9a6bcf",
   "metadata": {},
   "outputs": [],
   "source": [
    "p = PupilCore()\n",
    "pgr_future = p.pupil_grabber(topic='pupil.1.3d', seconds=5)"
   ]
  },
  {
   "cell_type": "code",
   "execution_count": null,
   "id": "e2404a08",
   "metadata": {},
   "outputs": [],
   "source": [
    "data = pgr_future.result()\n",
    "data[0]"
   ]
  },
  {
   "cell_type": "code",
   "execution_count": null,
   "id": "6596104e",
   "metadata": {},
   "outputs": [],
   "source": [
    "import matplotlib.pyplot as plt\n",
    "from pyplr.utils import unpack_data_pandas\n",
    "\n",
    "data = unpack_data_pandas(data, cols=['timestamp','diameter_3d'])\n",
    "ax = data['diameter_3d'].plot(figsize=(14,4))\n",
    "ax.set_ylabel('Pupil diameter (mm)')\n",
    "ax.set_xlabel('Pupil timestamp (s)')"
   ]
  },
  {
   "cell_type": "code",
   "execution_count": null,
   "id": "649d8469",
   "metadata": {},
   "outputs": [],
   "source": []
  }
 ],
 "metadata": {
  "kernelspec": {
   "display_name": "Python 3 (ipykernel)",
   "language": "python",
   "name": "python3"
  },
  "language_info": {
   "codemirror_mode": {
    "name": "ipython",
    "version": 3
   },
   "file_extension": ".py",
   "mimetype": "text/x-python",
   "name": "python",
   "nbconvert_exporter": "python",
   "pygments_lexer": "ipython3",
   "version": "3.11.7"
  }
 },
 "nbformat": 4,
 "nbformat_minor": 5
}
