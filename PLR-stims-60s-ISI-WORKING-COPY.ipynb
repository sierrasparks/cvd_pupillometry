{
 "cells": [
  {
   "cell_type": "markdown",
   "metadata": {},
   "source": [
    "**SETUP INSTRUCTIONS**\n",
    "\n",
    "Run each cell below to set up the environment. Make sure to adjust the subject ID and path variables.\n",
    "Run pupilLabsDebug BEFORE this program to ensure measurements are as expected."
   ]
  },
  {
   "cell_type": "code",
   "execution_count": null,
   "metadata": {},
   "outputs": [],
   "source": [
    "path_base = 'C:/Users/kebl6975/Documents/GitHub/cvd_pupillometry/subjectdata/'\n",
    "# can add subject number + date\n",
    "subject_id = 3\n",
    "subj_base = 'plr-60s-sub-003_ses-01_dat-20230705' # plr-sub-subjectID-ses-sesID-dat-date - sub-xxx-ses-xx-dat-yyyymmdd"
   ]
  },
  {
   "cell_type": "code",
   "execution_count": null,
   "metadata": {},
   "outputs": [],
   "source": [
    "# Set up stlab\n",
    "from pyplr import stlab\n",
    "d = stlab.SpectraTuneLab(password='2294b16eea08a15a')"
   ]
  },
  {
   "cell_type": "markdown",
   "metadata": {},
   "source": [
    "Light engine is now set up, and so it is now possible to access the methods from the REST API. "
   ]
  },
  {
   "cell_type": "code",
   "execution_count": null,
   "metadata": {
    "scrolled": true
   },
   "outputs": [],
   "source": [
    "# from pyplr.calibrate import CalibrationContext as calibrationContext\n",
    "# Calibration - important\n",
    "import pyplr.calibrate as calb\n",
    "from importlib import reload\n",
    "reload(calb)\n",
    "# file type to be read must be in format of:\n",
    "# led | intensity | wavelength 1 (380) | wavelength 2 | ... | wavelength n (780)\n",
    "\n",
    "cc = calb.CalibrationContext(\n",
    "    'S2_corrected_oo_spectra.csv', binwidth=1)\n",
    "_ = cc.plot_calibrated_spectra()\n"
   ]
  },
  {
   "cell_type": "code",
   "execution_count": null,
   "metadata": {},
   "outputs": [],
   "source": [
    "# calculate the peak spectral sensitivity for each LED at its maximum intensity setting\n",
    "cc.lkp.xs(key=4095, level=1).idxmax(axis=1)"
   ]
  },
  {
   "cell_type": "code",
   "execution_count": null,
   "metadata": {},
   "outputs": [],
   "source": [
    "from pyplr import stlab\n",
    "\n",
    "#50mW spec - retrieved from examples/pfr/stimuli/PLR-3000-50-mw.dsf\n",
    "white_spec = [176, 184, 80, 0, 0, 0, 308, 122, 0, 0]\n",
    "d.turn_off()"
   ]
  },
  {
   "cell_type": "code",
   "execution_count": null,
   "metadata": {},
   "outputs": [],
   "source": [
    "from time import sleep\n",
    "# import random # not using this library unless we want to randomize stims\n",
    "from pyplr.pupil import PupilCore\n",
    "from pyplr.utils import unpack_data_pandas\n",
    "from pyplr.protocol import input_subject_id, subject_dir\n",
    "# Connect to Pupil Core\n",
    "p = PupilCore()\n",
    "p.check_3d_model()"
   ]
  },
  {
   "cell_type": "code",
   "execution_count": null,
   "metadata": {
    "scrolled": true
   },
   "outputs": [],
   "source": [
    "# PIPR STIMS - USE THIS ONE\n",
    "d.turn_off()\n",
    "subject_id = input_subject_id()\n",
    "subj_dir = subject_dir(subject_id)\n",
    "sleep(2)\n",
    "ISI = 60 # interstimulus time, in seconds\n",
    "num_trials = 3 # total number of trials\n",
    "run_time = ISI*num_trials + 5*num_trials + 30 # appropriate offset to account for stim duration + sleeps\n",
    "\n",
    "\n",
    "# Start a new recording called \"my_recording\"\n",
    "p.command('R my_recording')\n",
    "\n",
    "# Wait a few seconds\n",
    "sleep(2)\n",
    "\n",
    "# Make an annotation for when the light comes on\n",
    "annotation = p.new_annotation('LIGHT_ON')\n",
    "\n",
    "# Start the .light_stamper(...) and .pupil_grabber(...)\n",
    "# this only captures one eye\n",
    "# pgr_future = p.pupil_grabber(topic='pupil.1.3d', seconds=25) # time here is TOTAL run time\n",
    "pgr_future = p.pupil_grabber(topic='pupil.1.3d', seconds=run_time) # time here is TOTAL run time\n",
    "\n",
    "sleep(2)\n",
    "##################################\n",
    "# Administer light stimulus here #\n",
    "i = 0\n",
    "# random.shuffle(led_list) # use this if stims should be randomized\n",
    "while (i < num_trials):\n",
    "    intensities = white_spec\n",
    "    lst_future = p.light_stamper(annotation=annotation, timeout=10)\n",
    "    d.set_spectrum_a(intensities)\n",
    "    sleep(1.)\n",
    "    d.turn_off()\n",
    "    sleep(ISI)\n",
    "    i+=1\n",
    "    sleep(5) # make sure there is extra time so that trials do not overlap\n",
    "##################################\n",
    "\n",
    "# Wait for the futures\n",
    "while lst_future.running() or pgr_future.running():\n",
    "    print('Waiting for futures...')\n",
    "    sleep(1)\n",
    "\n",
    "# End recording\n",
    "p.command('r')\n",
    "\n",
    "# Get the timestamp and pupil data\n",
    "timestamp = lst_future.result()[1]\n",
    "data = unpack_data_pandas(pgr_future.result())\n",
    "# timestamps are displayed in the output as well\n",
    "# Plot the PLR\n",
    "ax = data['diameter_3d'].plot()\n",
    "ax.axvline(x=timestamp, color='k')"
   ]
  },
  {
   "cell_type": "code",
   "execution_count": null,
   "metadata": {},
   "outputs": [],
   "source": [
    "data = unpack_data_pandas(pgr_future.result())\n",
    "# timestamps are displayed in the output as well\n",
    "# Plot the PLR\n",
    "ax = data['diameter_3d'].plot()\n",
    "ax.axvline(x=timestamp, color='k')\n",
    "# display data from pandas table\n",
    "data"
   ]
  },
  {
   "cell_type": "code",
   "execution_count": null,
   "metadata": {},
   "outputs": [],
   "source": [
    "import os  \n",
    "\n",
    "# os.makedirs('C:/Users/kebl6975/Documents/GitHub/cvd_pupillometry/subjectdata', exist_ok=True) \n",
    "\n",
    "data.to_csv(path_base + subj_base + '.csv')"
   ]
  },
  {
   "cell_type": "markdown",
   "metadata": {},
   "source": [
    "**DATA PROCESSING BEGINS BELOW**"
   ]
  },
  {
   "cell_type": "code",
   "execution_count": null,
   "metadata": {},
   "outputs": [],
   "source": [
    "samples = data\n",
    "samples"
   ]
  },
  {
   "cell_type": "code",
   "execution_count": null,
   "metadata": {},
   "outputs": [],
   "source": [
    "from pyplr import graphing\n",
    "from pyplr import preproc\n",
    "import matplotlib.pyplot as plt\n",
    "\n",
    "# Sampling frequency\n",
    "SAMPLE_RATE = 120\n",
    "\n",
    "# Pupil columns to analyse\n",
    "pupil_cols = ['diameter_3d', 'diameter']\n",
    "\n",
    "# Make figure for processing\n",
    "#f, axs = graphing.pupil_preprocessing(nrows=4, subject='Example')\n",
    "fig, axs = plt.subplots(5, sharex=True, figsize=(10,10))\n",
    "fig.suptitle('Example Subject PLR')\n",
    "\n",
    "# Plot the raw data\n",
    "samples[pupil_cols].plot(title='Raw', ax=axs[0], legend=True)\n",
    "axs[0].legend(loc='center right', labels=['mm', 'pixels'])\n",
    "\n",
    "# Mask first derivative\n",
    "samples = preproc.mask_pupil_first_derivative(\n",
    "    samples, threshold=3.0, mask_cols=pupil_cols)\n",
    "samples[pupil_cols].plot(\n",
    "    title='Masked 1st deriv (3*SD)', ax=axs[1], legend=False)\n",
    "\n",
    "# Mask confidence\n",
    "samples = preproc.mask_pupil_confidence(\n",
    "    samples, threshold=0.8, mask_cols=pupil_cols)\n",
    "samples[pupil_cols].plot(\n",
    "    title='Masked confidence (<0.8)', ax=axs[2], legend=False)\n",
    "\n",
    "# Interpolate\n",
    "samples = preproc.interpolate_pupil(\n",
    "    samples, interp_cols=pupil_cols)\n",
    "samples[pupil_cols].plot(\n",
    "    title='Linear interpolation', ax=axs[3], legend=False)\n",
    "\n",
    "# Smooth\n",
    "samples = preproc.butterworth_series(\n",
    "    samples, fields=pupil_cols, filt_order=3,\n",
    "    cutoff_freq=4/(SAMPLE_RATE/2))\n",
    "samples[pupil_cols].plot(\n",
    "    title='3rd order Butterworth filter with 4 Hz cut-off',\n",
    "    ax=axs[4], legend=False);"
   ]
  },
  {
   "cell_type": "code",
   "execution_count": null,
   "metadata": {},
   "outputs": [],
   "source": [
    "# export butterworth processed sample data (?)\n",
    "samples.to_csv(path_base + subj_base + '-butterworth.csv') # raw data\n",
    "# stop here, run second protocol"
   ]
  },
  {
   "cell_type": "code",
   "execution_count": null,
   "metadata": {},
   "outputs": [],
   "source": [
    "import matplotlib.pyplot as plt\n",
    "import numpy as np\n",
    "import pandas as pd"
   ]
  },
  {
   "cell_type": "code",
   "execution_count": null,
   "metadata": {},
   "outputs": [],
   "source": [
    "# df_pipr = samples # this is the smoothed out data\n",
    "df_pipr = pd.read_csv(path_base + subj_base + 'butterworth.csv')\n",
    "\n",
    "# Print header names\n",
    "print(df_pipr.columns)\n",
    "\n",
    "# Extract the column with header \"timestamp\"\n",
    "timestamps = df_pipr[\"timestamp\"]\n",
    "# Extract the column with header \"diameter_3d\"\n",
    "diam_3d = df_pipr[\"diameter_3d\"]"
   ]
  },
  {
   "cell_type": "code",
   "execution_count": null,
   "metadata": {
    "scrolled": false
   },
   "outputs": [],
   "source": [
    "fig = plt.figure()\n",
    "plt.plot(timestamps, diam_3d)"
   ]
  },
  {
   "cell_type": "markdown",
   "metadata": {},
   "source": [
    "This is copied from the output of cell 11\n",
    "> Light stamped on frame.world at 689970.0772810001\n",
    "> Waiting for a light to stamp...\n",
    "> Light stamped on frame.world at 690036.3856500001\n",
    "> Waiting for a light to stamp...\n",
    "> Light stamped on frame.world at 690102.918729\n",
    "> Waiting for a light to stamp...\n",
    "> Light stamped on frame.world at 690169.428877\n",
    "> Waiting for a light to stamp...\n",
    "> Light stamped on frame.world at 690235.923252\n",
    "> Waiting for a light to stamp...\n",
    "> Light stamped on frame.world at 690302.5674930001"
   ]
  },
  {
   "cell_type": "markdown",
   "metadata": {},
   "source": [
    "**Edit Cell Below with Timestamps**"
   ]
  },
  {
   "cell_type": "code",
   "execution_count": null,
   "metadata": {},
   "outputs": [],
   "source": [
    "# NEED TO EDIT THIS WITH NEW TIMESTAMPS\n",
    "# finds indices of each timestamp (or closest one before, if exact match cannot be found).\n",
    "# finds list of timestamps where condition is true, extracts array of just this, then takes last value (closest stamp)\n",
    "stamp1 = np.where(timestamps <= 30432.58054)[0][-1]\n",
    "stamp2 = np.where(timestamps <= 30499.074408)[0][-1]\n",
    "stamp3 = np.where(timestamps <= 30565.496257)[0][-1]\n",
    "stamps = [stamp1, stamp2, stamp3]\n",
    "stamps"
   ]
  },
  {
   "cell_type": "code",
   "execution_count": null,
   "metadata": {},
   "outputs": [],
   "source": [
    "from pyplr import utils\n",
    "from copy import deepcopy"
   ]
  },
  {
   "cell_type": "code",
   "execution_count": null,
   "metadata": {},
   "outputs": [],
   "source": [
    "df_data = df_pipr[['timestamp', 'confidence','id','diameter','diameter_3d']]\n",
    "df_data"
   ]
  },
  {
   "cell_type": "code",
   "execution_count": null,
   "metadata": {},
   "outputs": [],
   "source": [
    "# extract ranges from samples based on event timing and sample count\n",
    "# adapted from extract() from utils.py\n",
    "# set variables - change as necessary\n",
    "samples = df_data\n",
    "event_starts = stamps \n",
    "onset_time = 1\n",
    "duration_time = 60\n",
    "offset = -60*onset_time # 60 sample rate, start 1s before light to get baseline\n",
    "duration = 60*duration_time  # 60 sample rate\n",
    "\n",
    "# find the indexes of the event starts, and offset by sample count\n",
    "range_idxs = (\n",
    "    np.searchsorted(samples.index, event_starts, \"left\") + offset\n",
    ")\n",
    "range_duration = duration\n"
   ]
  },
  {
   "cell_type": "code",
   "execution_count": null,
   "metadata": {},
   "outputs": [],
   "source": [
    "range_idxs"
   ]
  },
  {
   "cell_type": "code",
   "execution_count": null,
   "metadata": {},
   "outputs": [],
   "source": [
    "# make a hierarchical index\n",
    "samples[\"orig_idx\"] = samples.index\n",
    "midx = pd.MultiIndex.from_product(\n",
    "    [list(range(len(event_starts))), list(range(range_duration))],\n",
    "    names=[\"event\", \"onset\"],\n",
    ")\n",
    "\n",
    "# TODO: can add option for time index here\n",
    "\n",
    "# get the samples\n",
    "df = pd.DataFrame()\n",
    "idx = 0\n",
    "for start_idx in range_idxs:\n",
    "    # get the start time and add the required number of indices\n",
    "    end_idx = start_idx + range_duration - 1  # .loc indexing is inclusive\n",
    "    if end_idx >= len(samples):\n",
    "        end_idx = len(samples) - 1\n",
    "    new_df = deepcopy(\n",
    "        samples.loc[samples.index[start_idx] : samples.index[end_idx]]\n",
    "    )\n",
    "    #for ba in borrow_attributes:\n",
    "        #new_df[ba] = events.iloc[idx].get(ba, float(\"nan\"))\n",
    "    df = pd.concat([df, new_df])\n",
    "    idx += 1\n",
    "df.index = midx\n",
    "print(\"Extracted ranges for {} events\".format(len(event_starts)))"
   ]
  },
  {
   "cell_type": "code",
   "execution_count": null,
   "metadata": {},
   "outputs": [],
   "source": [
    "df.index"
   ]
  },
  {
   "cell_type": "code",
   "execution_count": null,
   "metadata": {},
   "outputs": [],
   "source": [
    "from pyplr import graphing\n",
    "from pyplr import preproc\n",
    "# Calculate baselines\n",
    "baselines = df.loc[:, range(0, -offset), :].mean(level=0)\n",
    "\n",
    "# New columns for percent signal change\n",
    "df = preproc.percent_signal_change(\n",
    "    df, baselines, ['diameter_3d', 'diameter'])\n",
    "df\n"
   ]
  },
  {
   "cell_type": "code",
   "execution_count": null,
   "metadata": {},
   "outputs": [],
   "source": [
    "from pyplr.plr import PLR\n",
    "\n",
    "average_plr = df.mean(level=1)['diameter_3d'].to_numpy()\n",
    "plr = PLR(average_plr,\n",
    "          sample_rate=60,\n",
    "          onset_idx=-offset,\n",
    "          stim_duration=1)"
   ]
  },
  {
   "cell_type": "code",
   "execution_count": null,
   "metadata": {},
   "outputs": [],
   "source": [
    "fig = plr.plot(vel=True, acc=True, print_params=True)"
   ]
  },
  {
   "cell_type": "code",
   "execution_count": null,
   "metadata": {},
   "outputs": [],
   "source": [
    "params = plr.parameters()\n",
    "params"
   ]
  },
  {
   "cell_type": "code",
   "execution_count": null,
   "metadata": {},
   "outputs": [],
   "source": [
    "df.to_csv(path_base + subj_base + '-processed.csv') # processed data with adjusted onset indices (time in seconds)"
   ]
  },
  {
   "cell_type": "code",
   "execution_count": null,
   "metadata": {},
   "outputs": [],
   "source": [
    "param_new=params.transpose()\n",
    "param_new.reset_index(drop=True)"
   ]
  },
  {
   "cell_type": "code",
   "execution_count": null,
   "metadata": {},
   "outputs": [],
   "source": [
    "param_new[\"subject_id\"] = subject_id\n",
    "param_new = param_new.set_index(\"subject_id\")\n",
    "param_new.to_csv(path_base + subj_base + '-plr-params.csv') # pupillary light response calculated parameters"
   ]
  },
  {
   "cell_type": "code",
   "execution_count": null,
   "metadata": {},
   "outputs": [],
   "source": [
    "param_all = pd.read_csv(path_base + 'plr-60s-params.csv')\n",
    "param_all = param_all.set_index(\"subject_id\")"
   ]
  },
  {
   "cell_type": "code",
   "execution_count": null,
   "metadata": {},
   "outputs": [],
   "source": [
    "param_all_new = pd.concat([param_all, param_new]) # create a new database with the new data and old data\n",
    "df3.to_csv(path_base + 'plr-60s-params.csv') # write new database to existing file (overwrite file contents)"
   ]
  }
 ],
 "metadata": {
  "kernelspec": {
   "display_name": "Python 3 (ipykernel)",
   "language": "python",
   "name": "python3"
  },
  "language_info": {
   "codemirror_mode": {
    "name": "ipython",
    "version": 3
   },
   "file_extension": ".py",
   "mimetype": "text/x-python",
   "name": "python",
   "nbconvert_exporter": "python",
   "pygments_lexer": "ipython3",
   "version": "3.8.8"
  },
  "vscode": {
   "interpreter": {
    "hash": "4ce50c693e2523f7cccde82e42ebcfbd665d29c02cdad852b853bc044d8ef3b2"
   }
  }
 },
 "nbformat": 4,
 "nbformat_minor": 2
}
